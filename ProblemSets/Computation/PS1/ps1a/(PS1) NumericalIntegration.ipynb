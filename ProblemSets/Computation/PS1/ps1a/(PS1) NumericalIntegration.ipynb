{
 "cells": [
  {
   "cell_type": "markdown",
   "metadata": {},
   "source": [
    "# Computation, Problem Set #1a\n",
    "## Numerical Integration"
   ]
  },
  {
   "cell_type": "code",
   "execution_count": 128,
   "metadata": {},
   "outputs": [],
   "source": [
    "import math\n",
    "import numpy as np\n",
    "import scipy as sy"
   ]
  },
  {
   "cell_type": "markdown",
   "metadata": {},
   "source": [
    "### Excercise 2.1"
   ]
  },
  {
   "cell_type": "code",
   "execution_count": 44,
   "metadata": {},
   "outputs": [],
   "source": [
    "def numerical_integration(f,a,b,N,method):\n",
    "    \n",
    "    if method not in ['midpoint','trapezoid','simpsons']:\n",
    "        raise ValueError(\"Mode must be 'midpoint', 'trapezoid', or 'simpsons'\")\n",
    "        \n",
    "    if method == 'midpoint':\n",
    "        h = float(b-a)/N\n",
    "        value = 0.0\n",
    "        for i in range(N):\n",
    "            value += f((a + 0.5*h) + i*h)\n",
    "        value *= h\n",
    "        \n",
    "    if method == 'trapezoid':\n",
    "        h = float(b-a)/N\n",
    "        value = 0.5*(f(a) + f(b))\n",
    "        for i in range(1,N):\n",
    "            value += f(a + i*h)\n",
    "        value *= h\n",
    "        \n",
    "    if method == 'simpsons':\n",
    "        h = float(b-a)/N\n",
    "        value = f(a) + f(b)\n",
    "        for i in range(1,2*N):\n",
    "            x = a + i*h/2\n",
    "            if (i % 2 == 0):\n",
    "                value += 2*f(x)\n",
    "            else:\n",
    "                value += 4*f(x)\n",
    "        value *= h/6\n",
    "                \n",
    "    return value"
   ]
  },
  {
   "cell_type": "code",
   "execution_count": 45,
   "metadata": {},
   "outputs": [],
   "source": [
    "gx = lambda x : 0.1*x**4 - 1.5*x**3 + 0.53*x**2 + 2*x + 1"
   ]
  },
  {
   "cell_type": "code",
   "execution_count": 121,
   "metadata": {},
   "outputs": [
    {
     "name": "stdout",
     "output_type": "stream",
     "text": [
      "(midpoint)  result :  4373.319646676004  error : 0.013686657329344598\n",
      "(trapezoid) result :  4373.36070665599  error : 0.027373322656785604\n",
      "(simpson)   result :  4373.333333336001  error : 2.6675479602999985e-09\n"
     ]
    }
   ],
   "source": [
    "true_value = 4373+1/3\n",
    "value_midpoint  = numerical_integration(gx,-10,10,1000,'midpoint')\n",
    "value_trapezoid = numerical_integration(gx,-10,10,1000,'trapezoid')\n",
    "value_simpson   = numerical_integration(gx,-10,10,1000,'simpsons')\n",
    "print(\"(midpoint)  result : \",value_midpoint, \" error :\",abs(true_value-value_midpoint))\n",
    "print(\"(trapezoid) result : \",value_trapezoid, \" error :\",abs(true_value-value_trapezoid))\n",
    "print(\"(simpson)   result : \",value_simpson, \" error :\",abs(true_value-value_simpson))"
   ]
  },
  {
   "cell_type": "markdown",
   "metadata": {},
   "source": [
    "### Exercise 2.2"
   ]
  },
  {
   "cell_type": "code",
   "execution_count": 81,
   "metadata": {},
   "outputs": [],
   "source": [
    "from scipy.stats import norm"
   ]
  },
  {
   "cell_type": "code",
   "execution_count": 27,
   "metadata": {},
   "outputs": [],
   "source": [
    "def newton_cotes(mu,sig,N,k):\n",
    "    \n",
    "    Z = np.linspace(mu-k*sig,mu+k*sig,N)\n",
    "    w = np.zeros_like(Z)\n",
    "    w[0] = norm.cdf((Z[0]+Z[1])/2,loc=mu,scale=sig)\n",
    "    w[N-1] = 1 - norm.cdf((Z[N-2]+Z[N-1])/2,loc=mu,scale=sig)\n",
    "    \n",
    "    for i in range(1, N-1):\n",
    "        zmin = (Z[i-1]+Z[i])/2\n",
    "        zmax = (Z[i]+Z[i+1])/2\n",
    "        w[i] = norm.cdf(zmax,loc=mu,scale=sig) - norm.cdf(zmin,loc=mu,scale=sig)\n",
    "        \n",
    "    return Z, w"
   ]
  },
  {
   "cell_type": "code",
   "execution_count": 28,
   "metadata": {},
   "outputs": [
    {
     "name": "stdout",
     "output_type": "stream",
     "text": [
      "Z = [-3.  -2.4 -1.8 -1.2 -0.6  0.   0.6  1.2  1.8  2.4  3. ]\n",
      "w = [0.00346697 0.01439745 0.04894278 0.11725292 0.19802845 0.23582284\n",
      " 0.19802845 0.11725292 0.04894278 0.01439745 0.00346697]\n"
     ]
    }
   ],
   "source": [
    "Z, w = newton_cotes(0,1,11,3)\n",
    "print(\"Z =\",Z)\n",
    "print(\"w =\",w)"
   ]
  },
  {
   "cell_type": "markdown",
   "metadata": {},
   "source": [
    "### Excercise 2.3"
   ]
  },
  {
   "cell_type": "code",
   "execution_count": 29,
   "metadata": {},
   "outputs": [],
   "source": [
    "def lognorm_dist(mu,sig,N,k):\n",
    "    logA, w = newton_cotes(mu,sig,N,k)\n",
    "    A = np.exp(logA)\n",
    "    return A, w"
   ]
  },
  {
   "cell_type": "code",
   "execution_count": 30,
   "metadata": {},
   "outputs": [
    {
     "name": "stdout",
     "output_type": "stream",
     "text": [
      "A = [ 0.04978707  0.09071795  0.16529889  0.30119421  0.54881164  1.\n",
      "  1.8221188   3.32011692  6.04964746 11.02317638 20.08553692]\n",
      "w = [0.00346697 0.01439745 0.04894278 0.11725292 0.19802845 0.23582284\n",
      " 0.19802845 0.11725292 0.04894278 0.01439745 0.00346697]\n"
     ]
    }
   ],
   "source": [
    "A, w = lognorm_dist(0,1,11,3)\n",
    "print(\"A =\",A)\n",
    "print(\"w =\",w)"
   ]
  },
  {
   "cell_type": "markdown",
   "metadata": {},
   "source": [
    "### Excercise 2.4"
   ]
  },
  {
   "cell_type": "code",
   "execution_count": 31,
   "metadata": {},
   "outputs": [
    {
     "name": "stdout",
     "output_type": "stream",
     "text": [
      "Approximated expected income =  50352.456192765916\n",
      "Exact expected income =  50011.087008521754\n"
     ]
    }
   ],
   "source": [
    "mu = 10.5\n",
    "sig = 0.8\n",
    "\n",
    "Y, w = lognorm_dist(mu,sig,11,3)\n",
    "print(\"Approximated expected income = \",Y@w)\n",
    "print(\"Exact expected income = \",np.exp(mu+0.5*sig**2))"
   ]
  },
  {
   "cell_type": "markdown",
   "metadata": {},
   "source": [
    "### Excercise 3.1"
   ]
  },
  {
   "cell_type": "code",
   "execution_count": 112,
   "metadata": {},
   "outputs": [],
   "source": [
    "from scipy.optimize import root"
   ]
  },
  {
   "cell_type": "code",
   "execution_count": 125,
   "metadata": {},
   "outputs": [],
   "source": [
    "def gaussian_quad(f,a,b,N):\n",
    "\n",
    "    def system_of_eq(params):\n",
    "        w1, w2, w3, x1, x2, x3 = params\n",
    "        w = np.array([w1,w2,w3])\n",
    "        x = np.array([x1,x2,x3])\n",
    "        eq = np.empty(len(w)*2)\n",
    "        for i in range(1,len(w)*2+1):\n",
    "            eq[i-1] = (b**i-a**i)/i - w@(x**(i-1))\n",
    "        return eq\n",
    "    \n",
    "    params = root(system_of_eq, np.ones(6))\n",
    "    w = params.x[:3]\n",
    "    x = params.x[3:]\n",
    "    value = np.sum(w*f(x))\n",
    "    \n",
    "    return value"
   ]
  },
  {
   "cell_type": "code",
   "execution_count": 126,
   "metadata": {},
   "outputs": [
    {
     "name": "stdout",
     "output_type": "stream",
     "text": [
      "(gaussian_quadature) result :  4373.333333340381  error : 7.047674444038421e-09\n"
     ]
    }
   ],
   "source": [
    "gx = lambda x : 0.1*x**4 - 1.5*x**3 + 0.53*x**2 + 2*x + 1\n",
    "value_gaussian_quad = gaussian_quad(gx,-10,10,1000)\n",
    "print(\"(gaussian_quadature) result : \",value_gaussian_quad, \" error :\",abs(true_value-value_gaussian_quad))"
   ]
  },
  {
   "cell_type": "markdown",
   "metadata": {},
   "source": [
    "### Exercise 3.2"
   ]
  },
  {
   "cell_type": "code",
   "execution_count": 130,
   "metadata": {},
   "outputs": [
    {
     "name": "stdout",
     "output_type": "stream",
     "text": [
      "result : 4373.333333333334  error : 9.094947017729282e-13\n"
     ]
    }
   ],
   "source": [
    "result = sy.integrate.quad(gx,-10,10)[0]\n",
    "error = abs(true_value-result)\n",
    "print(\"result :\",result,\" error :\",error)"
   ]
  },
  {
   "cell_type": "markdown",
   "metadata": {},
   "source": [
    "### Excercise 4.1"
   ]
  },
  {
   "cell_type": "code",
   "execution_count": 133,
   "metadata": {},
   "outputs": [],
   "source": [
    "import scipy.stats as sts\n",
    "\n",
    "def monte_carlo(f,Omega,N):\n",
    "    x = np.random.uniform(Omega[0][0], Omega[0][1], N)\n",
    "    y = np.random.uniform(Omega[1][0], Omega[1][1], N)\n",
    "    V = (abs(Omega[0][0]-Omega[0][1]) * abs(Omega[1][0]-Omega[1][1]))\n",
    "    return V * np.sum(f(x,y)) / N"
   ]
  },
  {
   "cell_type": "code",
   "execution_count": 157,
   "metadata": {},
   "outputs": [
    {
     "name": "stdout",
     "output_type": "stream",
     "text": [
      "The number of random draws for the 4-th decimal accuracy:  862 , Pi =  3.1415313225058004\n"
     ]
    }
   ],
   "source": [
    "f = lambda x, y : (x**2 + y**2) <= 1\n",
    "diff = 10\n",
    "N = 25\n",
    "while diff > 0.0:\n",
    "    N += 1\n",
    "    pi = monte_carlo(f,[[-1,1],[-1,1]],N)\n",
    "    diff = abs(3.1415-math.floor(pi*1e+4)/1e+4)\n",
    "print(\"The number of random draws for the 4-th decimal accuracy: \",N, \", Pi = \",pi)"
   ]
  },
  {
   "cell_type": "markdown",
   "metadata": {},
   "source": [
    "### End"
   ]
  }
 ],
 "metadata": {
  "kernelspec": {
   "display_name": "Python 3",
   "language": "python",
   "name": "python3"
  },
  "language_info": {
   "codemirror_mode": {
    "name": "ipython",
    "version": 3
   },
   "file_extension": ".py",
   "mimetype": "text/x-python",
   "name": "python",
   "nbconvert_exporter": "python",
   "pygments_lexer": "ipython3",
   "version": "3.7.3"
  }
 },
 "nbformat": 4,
 "nbformat_minor": 2
}
