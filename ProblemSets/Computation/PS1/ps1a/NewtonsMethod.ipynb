{
 "cells": [
  {
   "cell_type": "code",
   "execution_count": 15,
   "metadata": {},
   "outputs": [],
   "source": [
    "import numpy as np"
   ]
  },
  {
   "cell_type": "markdown",
   "metadata": {},
   "source": [
    "# Problem 1"
   ]
  },
  {
   "cell_type": "code",
   "execution_count": 10,
   "metadata": {},
   "outputs": [],
   "source": [
    "def prob1(F, x0, F_prime, tol = 1e-5, maxiters = 15):\n",
    "    converged = False\n",
    "    num_iters = maxiters\n",
    "    for k in range(maxiters):\n",
    "        print(x0)\n",
    "        x1 = x0 - F(x0)/F_prime(x0)\n",
    "        if abs(x1-x0)<tol:\n",
    "            converged = True\n",
    "            num_iters = k+1\n",
    "            break\n",
    "        x0 = x1\n",
    "    return x0, converged, num_iters"
   ]
  },
  {
   "cell_type": "code",
   "execution_count": 11,
   "metadata": {},
   "outputs": [],
   "source": [
    "F = lambda x: np.exp(x) - 2\n",
    "F_prime = lambda x: np.exp(x)"
   ]
  },
  {
   "cell_type": "code",
   "execution_count": 12,
   "metadata": {},
   "outputs": [
    {
     "name": "stdout",
     "output_type": "stream",
     "text": [
      "2\n",
      "1.2706705664732254\n",
      "0.8319573037399686\n",
      "0.7023505840171669\n",
      "0.6931894022505122\n",
      "0.6931471814512683\n"
     ]
    },
    {
     "data": {
      "text/plain": [
       "(0.6931471814512683, True, 6)"
      ]
     },
     "execution_count": 12,
     "metadata": {},
     "output_type": "execute_result"
    }
   ],
   "source": [
    "prob1(F, 2, F_prime)"
   ]
  },
  {
   "cell_type": "markdown",
   "metadata": {},
   "source": [
    "# Problem 3"
   ]
  },
  {
   "cell_type": "code",
   "execution_count": 6,
   "metadata": {},
   "outputs": [],
   "source": [
    "from autograd import numpy as anp\n",
    "from autograd import grad"
   ]
  },
  {
   "cell_type": "code",
   "execution_count": 11,
   "metadata": {},
   "outputs": [],
   "source": [
    "def prob2(F, x0, F_prime,a=1, tol = 1e-5, maxiters = 15):\n",
    "    converged = False\n",
    "    num_iters = maxiters\n",
    "    for k in range(maxiters):\n",
    "        x1 = x0 - a*F(x0)/F_prime(x0)\n",
    "        if abs(x1-x0)<tol:\n",
    "            converged = True\n",
    "            num_iters = k+1\n",
    "            break\n",
    "        x0 = x1\n",
    "    return x0, converged, num_iters"
   ]
  },
  {
   "cell_type": "code",
   "execution_count": 12,
   "metadata": {},
   "outputs": [],
   "source": [
    "F = lambda x: anp.sign(x)*anp.power(anp.abs(x), 1./3)\n",
    "F_prime = grad(F)"
   ]
  },
  {
   "cell_type": "code",
   "execution_count": 13,
   "metadata": {},
   "outputs": [
    {
     "data": {
      "text/plain": [
       "(-327.6800000000008, False, 15)"
      ]
     },
     "execution_count": 13,
     "metadata": {},
     "output_type": "execute_result"
    }
   ],
   "source": [
    "prob2(F, .01, F_prime, a = 1)"
   ]
  },
  {
   "cell_type": "code",
   "execution_count": 14,
   "metadata": {},
   "outputs": [
    {
     "data": {
      "text/plain": [
       "(-3.199999999999966e-06, True, 6)"
      ]
     },
     "execution_count": 14,
     "metadata": {},
     "output_type": "execute_result"
    }
   ],
   "source": [
    "prob2(F, .01, F_prime, a = .4)"
   ]
  },
  {
   "cell_type": "markdown",
   "metadata": {},
   "source": [
    "# Problem 4"
   ]
  },
  {
   "cell_type": "code",
   "execution_count": 85,
   "metadata": {},
   "outputs": [],
   "source": [
    "agrid = np.linspace(0,1,11)"
   ]
  },
  {
   "cell_type": "code",
   "execution_count": 86,
   "metadata": {},
   "outputs": [],
   "source": [
    "F = lambda x: anp.sign(x)*anp.power(anp.abs(x), 1./3)\n",
    "F_prime = grad(F)"
   ]
  },
  {
   "cell_type": "code",
   "execution_count": 87,
   "metadata": {},
   "outputs": [],
   "source": [
    "from matplotlib import pyplot as plt"
   ]
  },
  {
   "cell_type": "code",
   "execution_count": 119,
   "metadata": {},
   "outputs": [],
   "source": [
    "def prob3(F, x0, F_prime, tol = 1e-5, maxiters = 15):\n",
    "    xpoints = []\n",
    "    ypoints = []\n",
    "    for a in agrid:\n",
    "        xpoints.append(a)\n",
    "        temp_res = prob2(F, x0, F_prime, a)\n",
    "        ypoints.append(temp_res[2])    \n",
    "    xpoints = np.array(xpoints[1:])\n",
    "    ypoints = np.array(ypoints[1:])\n",
    "    plt.scatter(xpoints, ypoints)\n",
    "    plt.show()\n",
    "    return(xpoints[np.argmin(ypoints)])"
   ]
  },
  {
   "cell_type": "code",
   "execution_count": 121,
   "metadata": {},
   "outputs": [
    {
     "data": {
      "image/png": "[encoded data removed]",
      "text/plain": [
       "<Figure size 432x288 with 1 Axes>"
      ]
     },
     "metadata": {
      "needs_background": "light"
     },
     "output_type": "display_data"
    },
    {
     "data": {
      "text/plain": [
       "0.30000000000000004"
      ]
     },
     "execution_count": 121,
     "metadata": {},
     "output_type": "execute_result"
    }
   ],
   "source": [
    "prob3(F, .01, F_prime)"
   ]
  },
  {
   "cell_type": "markdown",
   "metadata": {},
   "source": [
    "# Problem 7"
   ]
  },
  {
   "cell_type": "code",
   "execution_count": 174,
   "metadata": {},
   "outputs": [],
   "source": [
    "from matplotlib import pyplot as plt"
   ]
  },
  {
   "cell_type": "code",
   "execution_count": 208,
   "metadata": {},
   "outputs": [],
   "source": [
    "def prob7(f, Df, zeros, bounds, res, iters):\n",
    "    rmin, rmax, imin, imax = bounds\n",
    "    x_real = np.linspace(rmin, rmax, res)\n",
    "    x_imag = np.linspace(imin, imax, res)\n",
    "    X_real, X_imag = np.meshgrid(x_real, x_imag)\n",
    "    X_0 = X_real + 1j*X_imag\n",
    "    for i in range(iters):\n",
    "        X_1 = X_0 - f(X_0)/Df(X_0)\n",
    "        X_0 = X_1\n",
    "    Y = []\n",
    "    for x in X_0.flatten():\n",
    "        dist_2 = (zeros - x)**2        \n",
    "        Y.append(np.argmin(dist_2))\n",
    "    Y = np.array(Y)\n",
    "    Y = np.reshape(Y, (500,500))\n",
    "    plt.pcolormesh(X_real, X_imag, Y, cmap=\"brg\")"
   ]
  },
  {
   "cell_type": "code",
   "execution_count": 209,
   "metadata": {},
   "outputs": [],
   "source": [
    "f = lambda x: np.power(x,3)-1\n",
    "Df = lambda x: 3*np.power(x,2)"
   ]
  },
  {
   "cell_type": "code",
   "execution_count": 210,
   "metadata": {},
   "outputs": [],
   "source": [
    "res = 500\n",
    "bounds = [-1.5, 1.5, -1.5, 1.5]\n",
    "iters = 20\n",
    "zeros = np.array([1, -1/2 + np.sqrt(3)/2j, -1/2 - np.sqrt(3)/2j])"
   ]
  },
  {
   "cell_type": "code",
   "execution_count": 211,
   "metadata": {},
   "outputs": [
    {
     "data": {
      "image/png": "[encoded data removed]",
      "text/plain": [
       "<Figure size 432x288 with 1 Axes>"
      ]
     },
     "metadata": {
      "needs_background": "light"
     },
     "output_type": "display_data"
    }
   ],
   "source": [
    "prob7(f, Df, zeros, bounds, res, iters)"
   ]
  },
  {
   "cell_type": "code",
   "execution_count": 213,
   "metadata": {},
   "outputs": [],
   "source": [
    "f = lambda x: np.power(x,3)-x\n",
    "Df = lambda x: 3*np.power(x,2) - 1\n",
    "zeros = np.array([-1,0,1])"
   ]
  },
  {
   "cell_type": "code",
   "execution_count": 214,
   "metadata": {},
   "outputs": [
    {
     "data": {
      "image/png": "[encoded data removed]",
      "text/plain": [
       "<Figure size 432x288 with 1 Axes>"
      ]
     },
     "metadata": {
      "needs_background": "light"
     },
     "output_type": "display_data"
    }
   ],
   "source": [
    "prob7(f, Df, zeros, bounds, res, iters)"
   ]
  }
 ],
 "metadata": {
  "kernelspec": {
   "display_name": "Python 3",
   "language": "python",
   "name": "python3"
  },
  "language_info": {
   "codemirror_mode": {
    "name": "ipython",
    "version": 3
   },
   "file_extension": ".py",
   "mimetype": "text/x-python",
   "name": "python",
   "nbconvert_exporter": "python",
   "pygments_lexer": "ipython3",
   "version": "3.7.3"
  }
 },
 "nbformat": 4,
 "nbformat_minor": 2
}
