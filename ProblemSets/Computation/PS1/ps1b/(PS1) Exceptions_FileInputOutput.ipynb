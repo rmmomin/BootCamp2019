{
 "cells": [
  {
   "cell_type": "markdown",
   "metadata": {},
   "source": [
    "# Computation, Problem Set #1b\n",
    "## Exceptions and File Input/Output"
   ]
  },
  {
   "cell_type": "code",
   "execution_count": 1,
   "metadata": {},
   "outputs": [],
   "source": [
    "import math\n",
    "import numpy as np\n",
    "import sympy as sy\n",
    "from matplotlib import pyplot as plt"
   ]
  },
  {
   "cell_type": "markdown",
   "metadata": {},
   "source": [
    "### Problem 1"
   ]
  },
  {
   "cell_type": "code",
   "execution_count": 36,
   "metadata": {},
   "outputs": [],
   "source": [
    "def arithmagic():\n",
    "    step_1 = input(\"Enter a 3-digit number where the first and last \"\n",
    "                   \"digits differ by 2 or more: \")\n",
    "    # check error in step 1\n",
    "    if len(step_1) != 3:\n",
    "        raise ValueError(\"The number is not 3-digit!\")\n",
    "    elif abs(int(step_1[0])-int(step_1[2])) < 2:\n",
    "        raise ValueError(\"The number's first and last digits \"\n",
    "                         \"differ by less than 2\")\n",
    "        \n",
    "    step_2 = input(\"Enter the reverse of the first number, obtained \"\n",
    "                   \"by reading it backwards: \")\n",
    "    # check error in step 2\n",
    "    if int(step_2) != int(step_1[::-1]):\n",
    "        raise ValueError(\"This is not the reverse of \"\n",
    "                         \"the first number\")  \n",
    "    \n",
    "    step_3 = input(\"Enter the positive difference of these numbers: \")\n",
    "    # check error in step 3\n",
    "    if abs(int(step_1)-int(step_2)) != int(step_3):\n",
    "        raise ValueError(\"This is not the positive difference\"\n",
    "                        \"of the first two numbers\")   \n",
    "    \n",
    "    step_4 = input(\"Enter the reverse of the previous result: \")\n",
    "    # check error in step 4\n",
    "    if int(step_4) != int(step_3[::-1]):\n",
    "        raise ValueError(\"This is not the reverse of \"\n",
    "                         \"the third number\")\n",
    "    \n",
    "    print(str(step_3), \"+\", str(step_4), \"= 1089 (ta-da!)\")"
   ]
  },
  {
   "cell_type": "code",
   "execution_count": 38,
   "metadata": {},
   "outputs": [
    {
     "name": "stdout",
     "output_type": "stream",
     "text": [
      "Enter a 3-digit number where the first and last digits differ by 2 or more: 123\n",
      "Enter the reverse of the first number, obtained by reading it backwards: 321\n",
      "Enter the positive difference of these numbers: 198\n",
      "Enter the reverse of the previous result: 891\n",
      "198 + 891 = 1089 (ta-da!)\n"
     ]
    }
   ],
   "source": [
    "arithmagic()"
   ]
  },
  {
   "cell_type": "markdown",
   "metadata": {},
   "source": [
    "### Problem 2"
   ]
  },
  {
   "cell_type": "code",
   "execution_count": 54,
   "metadata": {},
   "outputs": [],
   "source": [
    "from random import choice\n",
    "\n",
    "def random_walk(max_iters=1e12):\n",
    "    try:\n",
    "        walk = 0\n",
    "        directions = [1,-1]\n",
    "        for i in range(int(max_iters)):\n",
    "            walk += choice(directions)\n",
    "    except KeyboardInterrupt:\n",
    "        print(\"Process interrupted at iteration \",i)\n",
    "    else:\n",
    "        print(\"Process completed\")\n",
    "    return walk"
   ]
  },
  {
   "cell_type": "code",
   "execution_count": 55,
   "metadata": {},
   "outputs": [
    {
     "name": "stdout",
     "output_type": "stream",
     "text": [
      "Process interrupted at iteration  23688998\n"
     ]
    },
    {
     "data": {
      "text/plain": [
       "-2970"
      ]
     },
     "execution_count": 55,
     "metadata": {},
     "output_type": "execute_result"
    }
   ],
   "source": [
    "random_walk()"
   ]
  },
  {
   "cell_type": "markdown",
   "metadata": {},
   "source": [
    "### Problem 3"
   ]
  },
  {
   "cell_type": "code",
   "execution_count": 310,
   "metadata": {},
   "outputs": [],
   "source": [
    "class ContentFilter:\n",
    "    def __init__(self,FileName):\n",
    "        try:\n",
    "            with open(FileName,'r') as f:\n",
    "                self.name = FileName\n",
    "                self.contents = f.readlines()\n",
    "                \n",
    "        except (FileNotFoundError,TypeError,OSError) as e:\n",
    "            ValidName = input(\"Please enter a valid file name: \")\n",
    "            self.__init__(ValidName)"
   ]
  },
  {
   "cell_type": "code",
   "execution_count": 311,
   "metadata": {},
   "outputs": [],
   "source": [
    "cf1 = ContentFilter(\"Hello_World.txt\") # File exists"
   ]
  },
  {
   "cell_type": "code",
   "execution_count": 306,
   "metadata": {},
   "outputs": [
    {
     "name": "stdout",
     "output_type": "stream",
     "text": [
      "Please enter a valid file name: still-not-a-file.txt\n",
      "Please enter a valid file name: Hello_World.txt\n"
     ]
    }
   ],
   "source": [
    "cf2 = ContentFilter(\"not-a-file.txt\") # File doesn't exist"
   ]
  },
  {
   "cell_type": "code",
   "execution_count": 307,
   "metadata": {},
   "outputs": [
    {
     "name": "stdout",
     "output_type": "stream",
     "text": [
      "Please enter a valid file name: Hello_World.txt\n"
     ]
    }
   ],
   "source": [
    "cf3 = ContentFilter([1,2,3]) # Not even a string"
   ]
  },
  {
   "cell_type": "code",
   "execution_count": 312,
   "metadata": {},
   "outputs": [
    {
     "data": {
      "text/plain": [
       "'Hello_World.txt'"
      ]
     },
     "execution_count": 312,
     "metadata": {},
     "output_type": "execute_result"
    }
   ],
   "source": [
    "cf1.name"
   ]
  },
  {
   "cell_type": "code",
   "execution_count": 313,
   "metadata": {},
   "outputs": [
    {
     "data": {
      "text/plain": [
       "['Hello, world\\n']"
      ]
     },
     "execution_count": 313,
     "metadata": {},
     "output_type": "execute_result"
    }
   ],
   "source": [
    "cf1.contents"
   ]
  },
  {
   "cell_type": "code",
   "execution_count": 314,
   "metadata": {},
   "outputs": [
    {
     "data": {
      "text/plain": [
       "True"
      ]
     },
     "execution_count": 314,
     "metadata": {},
     "output_type": "execute_result"
    }
   ],
   "source": [
    "myfile.closed"
   ]
  },
  {
   "cell_type": "markdown",
   "metadata": {},
   "source": [
    "### Problem 4"
   ]
  },
  {
   "cell_type": "code",
   "execution_count": 848,
   "metadata": {},
   "outputs": [],
   "source": [
    "class ContentFilter:\n",
    "    def __init__(self,FileName):\n",
    "        try:\n",
    "            with open(FileName,'r') as f:\n",
    "                self.name = FileName\n",
    "                self.content = f.readlines()\n",
    "                self.totalChar = sum([len(line) for line in self.content])\n",
    "                self.alphaChar = sum([word.isalpha() for line in self.content for word in line])\n",
    "                self.numerChar = sum([word.isdigit() for line in self.content for word in line])\n",
    "                self.spaceChar = sum([word.isspace() for line in self.content for word in line])\n",
    "                self.numLine = len(self.content)\n",
    "                \n",
    "        except (FileNotFoundError,TypeError,OSError) as e:\n",
    "            print(e)\n",
    "            ValidName = input(\"Please enter a valid file name: \")\n",
    "            self.__init__(ValidName)\n",
    "\n",
    "    def uniform(self,outfile,mode='w',case='upper'):\n",
    "        if mode not in ['w','x','a']:\n",
    "            raise ValueError(\"Mode must be 'w', 'r', or 'a '\")\n",
    "        elif case.strip() not in ['lower','upper']:\n",
    "            raise ValueError(\"Case must be 'upper' or 'lower'\")\n",
    "            \n",
    "        with open(outfile,mode) as outfile:\n",
    "            if case.strip() == 'upper':\n",
    "                for line in self.content:\n",
    "                    outfile.write(line.upper())\n",
    "            else:\n",
    "                for line in self.content:\n",
    "                    outfile.write(line.lower())\n",
    "                    \n",
    "    def reverse(self,outfile,mode='w',unit='line'):\n",
    "        if unit.strip() not in ['word','line']:\n",
    "            raise ValueError(\"Unit must be 'line' or 'word'\")\n",
    "            \n",
    "        with open(outfile,mode) as outfile:\n",
    "            if unit.strip() == 'line':\n",
    "                outfile.writelines(reversed(self.content))\n",
    "            else:\n",
    "                outfile.writelines(self.content[::-1])\n",
    "                    \n",
    "    def transpose(self,outfile,mode='w'):\n",
    "        with open(outfile,mode) as outfile:\n",
    "            outfile.writelines(' '.join(line) + \"\\n\" for line in zip(*self.content))\n",
    "                \n",
    "    def __str__(self):\n",
    "        text =  \"Source file:\\t\\t <{}>\\n\".format(self.name)\n",
    "        text += \"Total characters:\\t < {} >\\n\".format(self.totalChar)\n",
    "        text += \"Alphabetic characters:\\t < {} >\\n\".format(self.alphaChar)\n",
    "        text += \"Numerical characters:\\t < {} >\\n\".format(self.numerChar)\n",
    "        text += \"Whitespace characters:\\t < {} >\\n\".format(self.spaceChar)\n",
    "        text += \"Number of lines:\\t < {} >\\n\".format(self.numLine)\n",
    "        \n",
    "        return text"
   ]
  },
  {
   "cell_type": "code",
   "execution_count": 849,
   "metadata": {},
   "outputs": [
    {
     "name": "stdout",
     "output_type": "stream",
     "text": [
      "A b C\n",
      "d E f\n",
      "\n"
     ]
    },
    {
     "data": {
      "text/plain": [
       "<function TextIOWrapper.close()>"
      ]
     },
     "execution_count": 849,
     "metadata": {},
     "output_type": "execute_result"
    }
   ],
   "source": [
    "# check the original content\n",
    "\n",
    "f = open('cf_example1.txt','r')\n",
    "original_contents = f.read()\n",
    "print(original_contents)\n",
    "f.close"
   ]
  },
  {
   "cell_type": "code",
   "execution_count": 850,
   "metadata": {},
   "outputs": [],
   "source": [
    "cf = ContentFilter(\"cf_example1.txt\")\n",
    "cf.uniform(\"uniform.txt\",mode=\"w\",case=\"upper\")\n",
    "cf.uniform(\"uniform.txt\",mode=\"a\",case=\"lower\")\n",
    "cf.reverse(\"reverse.txt\",mode=\"w\",unit=\"word\")\n",
    "cf.reverse(\"reverse.txt\",mode=\"a\",unit=\"line\")\n",
    "cf.transpose(\"transpose.txt\",mode=\"w\")"
   ]
  },
  {
   "cell_type": "code",
   "execution_count": 851,
   "metadata": {},
   "outputs": [
    {
     "name": "stdout",
     "output_type": "stream",
     "text": [
      "A B C\n",
      "D E F\n",
      "a b c\n",
      "d e f\n",
      "\n"
     ]
    },
    {
     "data": {
      "text/plain": [
       "<function TextIOWrapper.close()>"
      ]
     },
     "execution_count": 851,
     "metadata": {},
     "output_type": "execute_result"
    }
   ],
   "source": [
    "# check the uniform.txt file\n",
    "f = open('uniform.txt','r')\n",
    "contents = f.read()\n",
    "print(contents)\n",
    "f.close"
   ]
  },
  {
   "cell_type": "code",
   "execution_count": 852,
   "metadata": {},
   "outputs": [
    {
     "name": "stdout",
     "output_type": "stream",
     "text": [
      "d E f\n",
      "A b C\n",
      "d E f\n",
      "A b C\n",
      "\n"
     ]
    },
    {
     "data": {
      "text/plain": [
       "<function TextIOWrapper.close()>"
      ]
     },
     "execution_count": 852,
     "metadata": {},
     "output_type": "execute_result"
    }
   ],
   "source": [
    "# check the reverse.txt file\n",
    "f = open('reverse.txt','r')\n",
    "contents = f.read()\n",
    "print(contents)\n",
    "f.close"
   ]
  },
  {
   "cell_type": "code",
   "execution_count": 853,
   "metadata": {},
   "outputs": [
    {
     "name": "stdout",
     "output_type": "stream",
     "text": [
      "A d\n",
      "   \n",
      "b E\n",
      "   \n",
      "C f\n",
      "\n",
      " \n",
      "\n",
      "\n"
     ]
    },
    {
     "data": {
      "text/plain": [
       "<function TextIOWrapper.close()>"
      ]
     },
     "execution_count": 853,
     "metadata": {},
     "output_type": "execute_result"
    }
   ],
   "source": [
    "# check the transpose.txt file\n",
    "f = open('transpose.txt','r')\n",
    "contents = f.read()\n",
    "print(contents)\n",
    "f.close"
   ]
  },
  {
   "cell_type": "code",
   "execution_count": 854,
   "metadata": {},
   "outputs": [
    {
     "name": "stdout",
     "output_type": "stream",
     "text": [
      "Source file:\t\t <cf_example1.txt>\n",
      "Total characters:\t < 12 >\n",
      "Alphabetic characters:\t < 6 >\n",
      "Numerical characters:\t < 0 >\n",
      "Whitespace characters:\t < 6 >\n",
      "Number of lines:\t < 2 >\n",
      "\n"
     ]
    }
   ],
   "source": [
    "print(cf)"
   ]
  },
  {
   "cell_type": "markdown",
   "metadata": {},
   "source": [
    "### end"
   ]
  }
 ],
 "metadata": {
  "kernelspec": {
   "display_name": "Python 3",
   "language": "python",
   "name": "python3"
  },
  "language_info": {
   "codemirror_mode": {
    "name": "ipython",
    "version": 3
   },
   "file_extension": ".py",
   "mimetype": "text/x-python",
   "name": "python",
   "nbconvert_exporter": "python",
   "pygments_lexer": "ipython3",
   "version": "3.7.3"
  }
 },
 "nbformat": 4,
 "nbformat_minor": 2
}
