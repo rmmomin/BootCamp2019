{
 "cells": [
  {
   "cell_type": "markdown",
   "metadata": {},
   "source": [
    "# Object-Oriented Programming"
   ]
  },
  {
   "cell_type": "markdown",
   "metadata": {},
   "source": [
    "## Problem 1"
   ]
  },
  {
   "cell_type": "code",
   "execution_count": 1,
   "metadata": {},
   "outputs": [],
   "source": [
    "class Backpack:\n",
    "    \"\"\"A Backpack object class. Has a name, color, maximal size and a list of contents.\n",
    "    Attributes:\n",
    "    name (str): the name of the backpack's owner.\n",
    "    color (str): the color of the backpack.\n",
    "    max_size (int): the maximum amount of items that the backpack can carry.\n",
    "    contents (list): the contents of the backpack.\n",
    "    \"\"\"\n",
    "    \n",
    "    def __init__(self, name, color, max_size = 5): # This function is the constructor.\n",
    "        \"\"\"Set the name and initialize an empty list of contents.\n",
    "        Parameters:\n",
    "        name (str): the name of the backpack's owner.\n",
    "        color (str): the color of the backpack.\n",
    "        max_size (int): the maximum amount of items that the backpack can carry.\n",
    "        \"\"\"\n",
    "        self.name = name    # Initialize some attributes.\n",
    "        self.color = color\n",
    "        self.max_size = max_size\n",
    "        self.contents = []\n",
    "        \n",
    "        \n",
    "    def put(self, item):\n",
    "        \"\"\"Add 'item' to the backpack's list of contents.\n",
    "        Make sure that the backpack does not go over capacity.\n",
    "        \"\"\"\n",
    "        if len(self.contents) < self.max_size:\n",
    "            self.contents.append(item) \n",
    "        else:\n",
    "            print(\"No Room!\")\n",
    "        \n",
    "    def dum(self):\n",
    "        \"\"\"Resets the contents of the backpack to an empty list.\"\"\"\n",
    "        self.contents = []"
   ]
  },
  {
   "cell_type": "code",
   "execution_count": 2,
   "metadata": {},
   "outputs": [],
   "source": [
    "def test_backpack():\n",
    "    testpack = Backpack(\"Barry\", \"black\") # Instantiate the object.\n",
    "    if testpack.name != \"Barry\": # Test an attribute.\n",
    "        print(\"Backpack.name assigned incorrectly\")\n",
    "    for item in [\"pencil\", \"pen\", \"paper\", \"computer\"]:\n",
    "        testpack.put(item) # Test a method.\n",
    "    print(\"Contents:\", testpack.contents)"
   ]
  },
  {
   "cell_type": "code",
   "execution_count": 3,
   "metadata": {},
   "outputs": [
    {
     "name": "stdout",
     "output_type": "stream",
     "text": [
      "Contents: ['pencil', 'pen', 'paper', 'computer']\n"
     ]
    }
   ],
   "source": [
    "test_backpack()"
   ]
  },
  {
   "cell_type": "markdown",
   "metadata": {},
   "source": [
    "## Problem 2"
   ]
  },
  {
   "cell_type": "code",
   "execution_count": 4,
   "metadata": {},
   "outputs": [],
   "source": [
    "class Jetpack(Backpack):\n",
    "    \"\"\"a Jetpack class that inherits from the Backpack class\n",
    "    \"\"\"\n",
    "    def __init__(self, name, color, max_size = 2, fuel = 10):\n",
    "        \"\"\"Set the name and initialize an empty list of contents.\n",
    "        Parameters:\n",
    "        name (str): the name of the backpack's owner.\n",
    "        color (str): the color of the backpack.\n",
    "        max_size (int): the maximum amount of items that the backpack can carry.\n",
    "        fuel (float): amount of feul\n",
    "        \"\"\"\n",
    "        Backpack.__init__(self, name, color, max_size)\n",
    "        self.fuel = fuel\n",
    "        \n",
    "    def fly(self, burn):\n",
    "        \"\"\"\n",
    "        fly() method accepts an amount of fuel to be burned \n",
    "        and decrements the fuel attribute by that amount. \n",
    "        If the user tries to burn more fuel than remains, \n",
    "        print “Not enough fuel!” and do not decrement the fuel.\n",
    "        \"\"\"\n",
    "        if burn <= self.fuel:\n",
    "            self.fuel -= burn\n",
    "        else:\n",
    "            print(\"Not enough fuel!\")\n",
    "            \n",
    "    def dump(self):\n",
    "        \"\"\"\n",
    "        Override the dump() method so that both the contents and the fuel tank are emptied.\n",
    "        \"\"\"\n",
    "        self.contents = []\n",
    "        self.fuel = 0"
   ]
  },
  {
   "cell_type": "markdown",
   "metadata": {},
   "source": [
    "## Problem 3"
   ]
  },
  {
   "cell_type": "code",
   "execution_count": 5,
   "metadata": {},
   "outputs": [],
   "source": [
    "class Backpack:\n",
    "    def __init__(self, name, color, max_size = 5): # This function is the constructor.\n",
    "        self.name = name    # Initialize some attributes.\n",
    "        self.color = color\n",
    "        self.max_size = max_size\n",
    "        self.contents = []\n",
    "        \n",
    "    def __eq__(self, other): \n",
    "        if self.name == other.name and \\\n",
    "           self.color == other.color and \\\n",
    "           len(self.contents) == len(other.contents):\n",
    "            return True\n",
    "        else:\n",
    "            return False\n",
    "        \n",
    "    def __str__(self):\n",
    "        return \"Owner: \" + '\\t' + self.name \\\n",
    "        + '\\n' + \"Color: \" + '\\t' + self.color \\\n",
    "        + '\\n' + \"Size: \" + '\\t' + str(len(self.contents)) \\\n",
    "        + '\\n' + \"Max Size: \" + '\\t' + str(self.max_size) \\\n",
    "        + '\\n' + \"Contents \" + '\\t' + str(self.contents)"
   ]
  },
  {
   "cell_type": "markdown",
   "metadata": {},
   "source": [
    "## Problem 4 Complex Number Class"
   ]
  },
  {
   "cell_type": "code",
   "execution_count": 6,
   "metadata": {},
   "outputs": [],
   "source": [
    "import numpy as np"
   ]
  },
  {
   "cell_type": "code",
   "execution_count": 7,
   "metadata": {},
   "outputs": [],
   "source": [
    "class ComplexNumber:\n",
    "    '''\n",
    "    Write a ComplexNumber class from scratch.\n",
    "    '''\n",
    "    \n",
    "    def __init__(self, real, imag): # constructor\n",
    "        self.real = real\n",
    "        self.imag = imag\n",
    "        \n",
    "    def conjugate(self):\n",
    "        return ComplexNumber(self.real, -self.imag)\n",
    "        \n",
    "    def __str__(self):\n",
    "        if self.imag < 0:\n",
    "            return str(self.real) + \"+\" + str(self.imag) + \"j\"\n",
    "        else:\n",
    "            return str(self.real) + \"-\" + str(self.imag) + \"j\"\n",
    "    \n",
    "    def __abs__(self):\n",
    "        return np.sqrt(self.real**2 + self.imag**2)\n",
    "\n",
    "    def __eq__(self, other):\n",
    "        if self.real == other.real and self.imag == other.image:\n",
    "            return True\n",
    "        else:\n",
    "            return False\n",
    "        \n",
    "    def __add__(self, other):\n",
    "        return ComplexNumber(self.real + other.real, self.imag + other.imag)\n",
    "    \n",
    "    def __sub__(self, other):\n",
    "        return ComplexNumber(self.real - other.real, self.imag - other.imag)\n",
    "    \n",
    "    def __mul__(self, other):\n",
    "        return ComplexNumber(self.real * other.real - self.imag * other.imag, \\\n",
    "                             self.real * other.imag + self.imag * other.real)\n",
    "    \n",
    "    def __truediv__(self, other):\n",
    "        a, b, c, d = self.real, self.imag, other.real, other.imag\n",
    "        return ComplexNumber((a*c+b*d)/(c**2+d**2), \\\n",
    "                            (b*c-a*d)/(c**2+d**2))"
   ]
  },
  {
   "cell_type": "code",
   "execution_count": 8,
   "metadata": {},
   "outputs": [],
   "source": [
    "def test_ComplexNumber(a, b):\n",
    "    py_cnum, my_cnum = np.complex(a, b), ComplexNumber(a, b)\n",
    "    \n",
    "    # Validate the constructor.\n",
    "    if my_cnum.real != a or my_cnum.imag != b:\n",
    "        print(\"__init__() set self.real and self.imag incorrectly\")\n",
    "    \n",
    "    # Validate conjugate() by checking the new number's imag attribute.\n",
    "    if py_cnum.conjugate().imag != my_cnum.conjugate().imag:\n",
    "        print(\"conjugate() failed for\", py_cnum)\n",
    "    \n",
    "    # Validate __str__().\n",
    "    if str(py_cnum) != str(my_cnum):\n",
    "        print(\"__str__() failed for\", py_cnum)"
   ]
  }
 ],
 "metadata": {
  "kernelspec": {
   "display_name": "Python 3",
   "language": "python",
   "name": "python3"
  },
  "language_info": {
   "codemirror_mode": {
    "name": "ipython",
    "version": 3
   },
   "file_extension": ".py",
   "mimetype": "text/x-python",
   "name": "python",
   "nbconvert_exporter": "python",
   "pygments_lexer": "ipython3",
   "version": "3.7.3"
  }
 },
 "nbformat": 4,
 "nbformat_minor": 2
}
