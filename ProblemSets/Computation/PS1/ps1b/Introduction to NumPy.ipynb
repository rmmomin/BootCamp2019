{
 "cells": [
  {
   "cell_type": "markdown",
   "metadata": {},
   "source": [
    "Rayhan Momin"
   ]
  },
  {
   "cell_type": "markdown",
   "metadata": {},
   "source": [
    "# Problem 1"
   ]
  },
  {
   "cell_type": "code",
   "execution_count": 1,
   "metadata": {},
   "outputs": [],
   "source": [
    "import numpy as np"
   ]
  },
  {
   "cell_type": "code",
   "execution_count": 20,
   "metadata": {},
   "outputs": [],
   "source": [
    "def prob1():\n",
    "    A = np.array( [[3,-1,4], [1,5,-9]] )\n",
    "    B = np.array( [[2,6, -5,3], [5,-8,9,7], [9,-3,-2,-3]] )\n",
    "    return A@B"
   ]
  },
  {
   "cell_type": "code",
   "execution_count": 21,
   "metadata": {},
   "outputs": [
    {
     "data": {
      "text/plain": [
       "array([[ 37,  14, -32, -10],\n",
       "       [-54,  -7,  58,  65]])"
      ]
     },
     "execution_count": 21,
     "metadata": {},
     "output_type": "execute_result"
    }
   ],
   "source": [
    "prob1()"
   ]
  },
  {
   "cell_type": "markdown",
   "metadata": {},
   "source": [
    "# Problem 2"
   ]
  },
  {
   "cell_type": "code",
   "execution_count": 22,
   "metadata": {},
   "outputs": [],
   "source": [
    "def prob2():\n",
    "    A = np.array([[3,1,4],[1,5,9],[-5,3,1]])\n",
    "    return -np.linalg.matrix_power(A,3) + 9*np.linalg.matrix_power(A,2) - 15*A"
   ]
  },
  {
   "cell_type": "code",
   "execution_count": 23,
   "metadata": {},
   "outputs": [
    {
     "data": {
      "text/plain": [
       "array([[0, 0, 0],\n",
       "       [0, 0, 0],\n",
       "       [0, 0, 0]])"
      ]
     },
     "execution_count": 23,
     "metadata": {},
     "output_type": "execute_result"
    }
   ],
   "source": [
    "prob2()"
   ]
  },
  {
   "cell_type": "markdown",
   "metadata": {},
   "source": [
    "# Problem 3"
   ]
  },
  {
   "cell_type": "code",
   "execution_count": 24,
   "metadata": {},
   "outputs": [],
   "source": [
    "def prob3():\n",
    "    A = np.triu(np.ones((7,7)))\n",
    "    B = np.tril(np.ones((7,7))*-1) + np.triu(np.ones((7,7))*5)  - np.diag([5,5,5,5,5,5,5])\n",
    "    ABA = A@B@A\n",
    "    ABA = ABA.astype(np.int64)\n",
    "    return ABA"
   ]
  },
  {
   "cell_type": "code",
   "execution_count": 25,
   "metadata": {},
   "outputs": [
    {
     "data": {
      "text/plain": [
       "array([[ -7,  -8,  -3,   8,  25,  48,  77],\n",
       "       [ -6, -12, -12,  -6,   6,  24,  48],\n",
       "       [ -5, -10, -15, -14,  -7,   6,  25],\n",
       "       [ -4,  -8, -12, -16, -14,  -6,   8],\n",
       "       [ -3,  -6,  -9, -12, -15, -12,  -3],\n",
       "       [ -2,  -4,  -6,  -8, -10, -12,  -8],\n",
       "       [ -1,  -2,  -3,  -4,  -5,  -6,  -7]])"
      ]
     },
     "execution_count": 25,
     "metadata": {},
     "output_type": "execute_result"
    }
   ],
   "source": [
    "prob3()"
   ]
  },
  {
   "cell_type": "markdown",
   "metadata": {},
   "source": [
    "# Problem 4"
   ]
  },
  {
   "cell_type": "code",
   "execution_count": 14,
   "metadata": {},
   "outputs": [],
   "source": [
    "def copyArray(anArray):\n",
    "    newArray = anArray.copy()\n",
    "    mask = newArray < 0\n",
    "    newArray[mask] = 0\n",
    "    return newArray"
   ]
  },
  {
   "cell_type": "code",
   "execution_count": 15,
   "metadata": {},
   "outputs": [
    {
     "data": {
      "text/plain": [
       "array([[   0,    0,    0],\n",
       "       [   2,    0,    0],\n",
       "       [   2, 1231,    0]])"
      ]
     },
     "execution_count": 15,
     "metadata": {},
     "output_type": "execute_result"
    }
   ],
   "source": [
    "copyArray(np.array([[-1,-1,-1],[2,-123,0], [2,1231,-3] ]))"
   ]
  },
  {
   "cell_type": "markdown",
   "metadata": {},
   "source": [
    "# Problem 5"
   ]
  },
  {
   "cell_type": "code",
   "execution_count": 64,
   "metadata": {},
   "outputs": [],
   "source": [
    "def prob5():\n",
    "    A = np.array([ [0,2,4], [1,3,5] ])\n",
    "    B = np.array([[3,0,0], [3,3,0], [3,3,3]])\n",
    "    C = np.array([[-2,0,0], [0,-2,0], [0,0,-2]])\n",
    "    row1 = np.column_stack((np.zeros((3,3)), A.T, np.identity(3)))\n",
    "    row2 = np.column_stack((A, np.zeros((2,2)), np.zeros((2,3))))\n",
    "    row3 = np.column_stack((B, np.zeros((3,2)), C ))\n",
    "    return np.vstack((row1,row2,row3))"
   ]
  },
  {
   "cell_type": "code",
   "execution_count": 65,
   "metadata": {},
   "outputs": [
    {
     "data": {
      "text/plain": [
       "array([[ 0.,  0.,  0.,  0.,  1.,  1.,  0.,  0.],\n",
       "       [ 0.,  0.,  0.,  2.,  3.,  0.,  1.,  0.],\n",
       "       [ 0.,  0.,  0.,  4.,  5.,  0.,  0.,  1.],\n",
       "       [ 0.,  2.,  4.,  0.,  0.,  0.,  0.,  0.],\n",
       "       [ 1.,  3.,  5.,  0.,  0.,  0.,  0.,  0.],\n",
       "       [ 3.,  0.,  0.,  0.,  0., -2.,  0.,  0.],\n",
       "       [ 3.,  3.,  0.,  0.,  0.,  0., -2.,  0.],\n",
       "       [ 3.,  3.,  3.,  0.,  0.,  0.,  0., -2.]])"
      ]
     },
     "execution_count": 65,
     "metadata": {},
     "output_type": "execute_result"
    }
   ],
   "source": [
    "prob5()"
   ]
  },
  {
   "cell_type": "markdown",
   "metadata": {},
   "source": [
    "# Problem 6"
   ]
  },
  {
   "cell_type": "code",
   "execution_count": 77,
   "metadata": {},
   "outputs": [],
   "source": [
    "def prob6(anArray):\n",
    "    newArray = anArray.copy()\n",
    "    temp = newArray.sum(axis=1)\n",
    "    return newArray/temp.reshape((temp.shape[0],1))"
   ]
  },
  {
   "cell_type": "code",
   "execution_count": 78,
   "metadata": {},
   "outputs": [],
   "source": [
    "B = np.array([[3,0,0], [3,3,0], [3,3,3]])"
   ]
  },
  {
   "cell_type": "code",
   "execution_count": 79,
   "metadata": {},
   "outputs": [
    {
     "data": {
      "text/plain": [
       "array([[3, 0, 0],\n",
       "       [3, 3, 0],\n",
       "       [3, 3, 3]])"
      ]
     },
     "execution_count": 79,
     "metadata": {},
     "output_type": "execute_result"
    }
   ],
   "source": [
    "B"
   ]
  },
  {
   "cell_type": "code",
   "execution_count": 80,
   "metadata": {},
   "outputs": [
    {
     "data": {
      "text/plain": [
       "array([[1.        , 0.        , 0.        ],\n",
       "       [0.5       , 0.5       , 0.        ],\n",
       "       [0.33333333, 0.33333333, 0.33333333]])"
      ]
     },
     "execution_count": 80,
     "metadata": {},
     "output_type": "execute_result"
    }
   ],
   "source": [
    "prob6(B)"
   ]
  },
  {
   "cell_type": "markdown",
   "metadata": {},
   "source": [
    "# Problem 7"
   ]
  },
  {
   "cell_type": "code",
   "execution_count": 87,
   "metadata": {},
   "outputs": [],
   "source": [
    "def return_max(sub_mat):\n",
    "    assert type(sub_mat) is np.ndarray, 'input not numpy array'\n",
    "    hort = sub_mat[0,:]\n",
    "    vert = sub_mat[:,0]\n",
    "    diag = np.diag(sub_mat)\n",
    "    adiag = np.diag(np.fliplr(sub_mat))\n",
    "\n",
    "    val_dict= {'hort': hort, 'vert':vert, 'diag': diag, 'adiag': adiag}\n",
    "    prod_list = []\n",
    "\n",
    "    for key, val in val_dict.items():\n",
    "        prod_list.append((key,val,np.prod(val)))\n",
    "\n",
    "    prod_list = sorted(prod_list, key = lambda x: x[2])\n",
    "\n",
    "    return prod_list[-1]"
   ]
  },
  {
   "cell_type": "code",
   "execution_count": 91,
   "metadata": {},
   "outputs": [],
   "source": [
    "def prob7Naive():\n",
    "    mat = np.load('grid.npy')\n",
    "    sub_mat_size = 4\n",
    "    row_divs = mat.shape[0]-sub_mat_size\n",
    "    col_divs = mat.shape[1]-sub_mat_size\n",
    "\n",
    "    sub_mat_dat = []\n",
    "\n",
    "    for i in range(col_divs):\n",
    "        for j in range(row_divs):\n",
    "            sub_mat = mat[i:i+4,j:j+4]\n",
    "            sub_mat_dat.append(return_max(sub_mat) + (i,j))\n",
    "\n",
    "    sub_mat_dat = sorted(sub_mat_dat, key = lambda x: x[2])\n",
    "\n",
    "    print(sub_mat_dat[-1])"
   ]
  },
  {
   "cell_type": "code",
   "execution_count": 92,
   "metadata": {},
   "outputs": [
    {
     "name": "stdout",
     "output_type": "stream",
     "text": [
      "('adiag', array([89, 94, 97, 87]), 70600674, 12, 3)\n"
     ]
    }
   ],
   "source": [
    "prob7Naive()"
   ]
  },
  {
   "cell_type": "code",
   "execution_count": 107,
   "metadata": {},
   "outputs": [],
   "source": [
    "def prob7():\n",
    "    return max(np.max(mat[:,:-3]*mat[:,1:-2]*mat[:,2:-1]*mat[:,3:] ), \n",
    "              np.max(mat[:-3,:]*mat[1:-2,:]*mat[2:-1,:]*mat[3:,:] ),\n",
    "              np.max(mat[:-3,:-3]*mat[1:-2,1:-2]*mat[2:-1,2:-1]*mat[3:,3:] ),\n",
    "              np.max(mat[:-3,3:]*mat[1:-2,2:-1]*mat[2:-1,1:-2]*mat[3:,:-3] ))"
   ]
  },
  {
   "cell_type": "code",
   "execution_count": 108,
   "metadata": {},
   "outputs": [
    {
     "data": {
      "text/plain": [
       "70600674"
      ]
     },
     "execution_count": 108,
     "metadata": {},
     "output_type": "execute_result"
    }
   ],
   "source": [
    "prob7()"
   ]
  }
 ],
 "metadata": {
  "kernelspec": {
   "display_name": "Python 3",
   "language": "python",
   "name": "python3"
  },
  "language_info": {
   "codemirror_mode": {
    "name": "ipython",
    "version": 3
   },
   "file_extension": ".py",
   "mimetype": "text/x-python",
   "name": "python",
   "nbconvert_exporter": "python",
   "pygments_lexer": "ipython3",
   "version": "3.7.3"
  }
 },
 "nbformat": 4,
 "nbformat_minor": 2
}
