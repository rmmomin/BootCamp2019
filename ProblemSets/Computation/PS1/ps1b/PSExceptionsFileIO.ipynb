{
 "cells": [
  {
   "cell_type": "markdown",
   "metadata": {},
   "source": [
    "# Exceptions and File Input/Output"
   ]
  },
  {
   "cell_type": "markdown",
   "metadata": {},
   "source": [
    "## Problem 1"
   ]
  },
  {
   "cell_type": "code",
   "execution_count": 1,
   "metadata": {},
   "outputs": [],
   "source": [
    "def arithmagic():\n",
    "    step_1 = input(\"Enter a 3-digit number where the first and last \"\n",
    "                   \"digits differ by 2 or more: \")\n",
    "    if len(step_1) != 3:\n",
    "        raise ValueError(\"Please enter a 3-digit number!\")\n",
    "    if abs(int(step_1[0]) - int(step_1[2])) < 2:\n",
    "        raise ValueError(\"The first and last digits should differ by 2 or more!\")\n",
    "        \n",
    "    step_2 = input(\"Enter the reverse of the first number, obtained \"\n",
    "                   \"by reading it backwards: \")\n",
    "    if int(step_2[2] + step_2[1] + step_2[0]) != int(step_1):\n",
    "        raise ValueError(\"It is not the reverse of the first number!\")\n",
    "    \n",
    "    step_3 = input(\"Enter the positive difference of these numbers: \")\n",
    "    if int(step_3) != abs(int(step_2) - int(step_1)):\n",
    "        raise ValueError(\"It is not the positive difference of the first two numbers!\")\n",
    "    \n",
    "    step_4 = input(\"Enter the reverse of the previous result: \")\n",
    "    if int(step_4[2] + step_4[1] + step_4[0]) != int(step_3):\n",
    "        raise ValueError(\"It is not the reverse of the third number!\")\n",
    "        \n",
    "    print(step_3, \"+\", step_4, \"= 1089 (ta-da!)\")"
   ]
  },
  {
   "cell_type": "markdown",
   "metadata": {},
   "source": [
    "## Problem 2"
   ]
  },
  {
   "cell_type": "code",
   "execution_count": 2,
   "metadata": {},
   "outputs": [],
   "source": [
    "from random import choice\n",
    "def random_walk(max_iters=1e12):\n",
    "    walk = 0\n",
    "    directions = [1, -1]\n",
    "    for i in range(int(max_iters)):\n",
    "        try:\n",
    "            walk += choice(directions)\n",
    "        except KeyboardInterrupt:\n",
    "            print(\"Process interrupted at iteration \" + str(i))\n",
    "    print(\"Process completed\")\n",
    "    return walk"
   ]
  },
  {
   "cell_type": "markdown",
   "metadata": {},
   "source": [
    "## Problem 3"
   ]
  },
  {
   "cell_type": "code",
   "execution_count": 3,
   "metadata": {},
   "outputs": [],
   "source": [
    "class ContentFilter:\n",
    "    def __init__(self, filename): # constructor\n",
    "        try:\n",
    "            with open(filename, 'r') as myfile:\n",
    "                self.name = filename\n",
    "                self.contents = myfile.readlines()\n",
    "                \n",
    "        except (FileNotFoundError, TypeError, OSError) as e:\n",
    "            validname = input(\"Please provide a valid filename: \")\n",
    "            self.__init__(validname)"
   ]
  },
  {
   "cell_type": "code",
   "execution_count": 4,
   "metadata": {},
   "outputs": [],
   "source": [
    "cf1 = ContentFilter(\"hello_world.txt\")    "
   ]
  },
  {
   "cell_type": "code",
   "execution_count": 5,
   "metadata": {},
   "outputs": [
    {
     "name": "stdout",
     "output_type": "stream",
     "text": [
      "Please provide a valid filename: hello_world.txt\n"
     ]
    }
   ],
   "source": [
    "cf2 = ContentFilter(\"not-a-file.txt\")"
   ]
  },
  {
   "cell_type": "code",
   "execution_count": 6,
   "metadata": {},
   "outputs": [
    {
     "name": "stdout",
     "output_type": "stream",
     "text": [
      "Please provide a valid filename: hello_world.txt\n"
     ]
    }
   ],
   "source": [
    "cf3 = ContentFilter([1, 2, 3]) "
   ]
  },
  {
   "cell_type": "markdown",
   "metadata": {},
   "source": [
    "## Problem 4"
   ]
  },
  {
   "cell_type": "code",
   "execution_count": 7,
   "metadata": {},
   "outputs": [],
   "source": [
    "class ContentFilter: \n",
    "    \n",
    "    def __init__(self, filename):\n",
    "        try:\n",
    "            with open(filename, 'r') as myfile:\n",
    "                self.name = filename\n",
    "                self.content = myfile.readlines()   \n",
    "                self.totalChar = sum([len(line) for line in self.content])\n",
    "                self.alphaChar = sum([word.isalpha() for line in self.content for word in line])\n",
    "                self.numerChar = sum([word.isdigit() for line in self.content for word in line])\n",
    "                self.spaceChar = sum([word.isspace() for line in self.content for word in line])\n",
    "                self.numLine = len(self.content)\n",
    "                \n",
    "        except (FileNotFoundError, TypeError, OSError) as e:\n",
    "            print(e)\n",
    "            validname = input(\"Please provide a valid filename: \")\n",
    "            self.__init__(validname)\n",
    "            \n",
    "    def uniform(self, outfile, mode = 'w', case = 'upper'):\n",
    "        if mode not in ['w', 'x', 'a']:\n",
    "            raise ValueError(\"Mode must be 'w', 'r', or 'a'.\")\n",
    "        elif case not in ['lower', 'upper']:\n",
    "            raise ValueError(\"Case must be 'lower' or 'upper'.\")\n",
    "        \n",
    "        with open(outfile, mode) as outfile:\n",
    "            if case == 'upper':\n",
    "                for line in self.content:\n",
    "                    outfile.write(line.upper())\n",
    "            elif case == 'lower':\n",
    "                for line in self.content:\n",
    "                    outfile.write(line.lower())\n",
    "                    \n",
    "    def reverse(self, outfile, mode = 'w', unit = 'line'):\n",
    "        if mode not in ['w', 'x', 'a']:\n",
    "            raise ValueError(\"Mode must be 'w', 'r', or 'a'.\")\n",
    "        elif unit not in ['line', 'word']:\n",
    "            raise ValueError(\"Unit must be 'line' or 'word'.\")\n",
    "        with open(outfile, mode) as outfile:\n",
    "            if unit == 'line':\n",
    "                outfile.writelines(reversed(self.content))\n",
    "            elif unit == 'word':\n",
    "                outfile.writelines(self.content[::-1])\n",
    "                \n",
    "    def transpose(self, outfile, mode = 'w'):\n",
    "        if mode not in ['w', 'x', 'a']:\n",
    "            raise ValueError(\"Mode must be 'w', 'r', or 'a'.\")\n",
    "        with open(outfile, mode) as outfile:\n",
    "            outfile.writelines(' '.join(line) + \"\\n\" for line in zip(*self.content))"
   ]
  },
  {
   "cell_type": "code",
   "execution_count": 8,
   "metadata": {},
   "outputs": [],
   "source": [
    "cf = ContentFilter(\"cf_example1.txt\")\n",
    "cf.uniform(\"uniform.txt\", mode='w', case=\"upper\")\n",
    "cf.uniform(\"uniform.txt\", mode='a', case=\"lower\")\n",
    "cf.reverse(\"reverse.txt\", mode='w', unit=\"word\")\n",
    "cf.reverse(\"reverse.txt\", mode='a', unit=\"line\")\n",
    "cf.transpose(\"transpose.txt\", mode='w')"
   ]
  },
  {
   "cell_type": "code",
   "execution_count": 9,
   "metadata": {},
   "outputs": [
    {
     "name": "stdout",
     "output_type": "stream",
     "text": [
      "A B C\n",
      "D E F\n",
      "a b c\n",
      "d e f\n",
      "\n"
     ]
    },
    {
     "data": {
      "text/plain": [
       "<function TextIOWrapper.close()>"
      ]
     },
     "execution_count": 9,
     "metadata": {},
     "output_type": "execute_result"
    }
   ],
   "source": [
    "uniform = open('uniform.txt','r')\n",
    "contents = uniform.read()\n",
    "print(contents)\n",
    "uniform.close"
   ]
  },
  {
   "cell_type": "code",
   "execution_count": 10,
   "metadata": {},
   "outputs": [
    {
     "name": "stdout",
     "output_type": "stream",
     "text": [
      "d E f\n",
      "A b C\n",
      "d E f\n",
      "A b C\n",
      "\n"
     ]
    },
    {
     "data": {
      "text/plain": [
       "<function TextIOWrapper.close()>"
      ]
     },
     "execution_count": 10,
     "metadata": {},
     "output_type": "execute_result"
    }
   ],
   "source": [
    "reverse = open('reverse.txt','r')\n",
    "contents = reverse.read()\n",
    "print(contents)\n",
    "reverse.close"
   ]
  },
  {
   "cell_type": "code",
   "execution_count": 11,
   "metadata": {},
   "outputs": [
    {
     "name": "stdout",
     "output_type": "stream",
     "text": [
      "A d\n",
      "   \n",
      "b E\n",
      "   \n",
      "C f\n",
      "\n",
      " \n",
      "\n",
      "\n"
     ]
    },
    {
     "data": {
      "text/plain": [
       "<function TextIOWrapper.close()>"
      ]
     },
     "execution_count": 11,
     "metadata": {},
     "output_type": "execute_result"
    }
   ],
   "source": [
    "transpose = open('transpose.txt','r')\n",
    "contents = transpose.read()\n",
    "print(contents)\n",
    "transpose.close"
   ]
  }
 ],
 "metadata": {
  "kernelspec": {
   "display_name": "Python 3",
   "language": "python",
   "name": "python3"
  },
  "language_info": {
   "codemirror_mode": {
    "name": "ipython",
    "version": 3
   },
   "file_extension": ".py",
   "mimetype": "text/x-python",
   "name": "python",
   "nbconvert_exporter": "python",
   "pygments_lexer": "ipython3",
   "version": "3.7.3"
  }
 },
 "nbformat": 4,
 "nbformat_minor": 2
}
