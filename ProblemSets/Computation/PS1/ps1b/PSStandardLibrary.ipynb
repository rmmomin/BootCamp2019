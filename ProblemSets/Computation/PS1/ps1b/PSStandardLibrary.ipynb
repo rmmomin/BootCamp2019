{
 "cells": [
  {
   "cell_type": "markdown",
   "metadata": {},
   "source": [
    "# The Standard Library"
   ]
  },
  {
   "cell_type": "markdown",
   "metadata": {},
   "source": [
    "## Problem 1\n",
    "Write a one-line code function that accepts a list L and returns the minimum, maximum, and average of the entries of L (in that order). "
   ]
  },
  {
   "cell_type": "code",
   "execution_count": 1,
   "metadata": {},
   "outputs": [],
   "source": [
    "def sumstat(x): return min(x),max(x),sum(x)/len(x)"
   ]
  },
  {
   "cell_type": "markdown",
   "metadata": {},
   "source": [
    "## Problem 2\n",
    "Determine which of Python's object types are mutable and which are immutable by repeating the following experiment for an `int`, `str`, `list`, `tuple`, and `set`."
   ]
  },
  {
   "cell_type": "code",
   "execution_count": 2,
   "metadata": {},
   "outputs": [
    {
     "name": "stdout",
     "output_type": "stream",
     "text": [
      "int is an immutable type\n"
     ]
    }
   ],
   "source": [
    "int_1 = 1\n",
    "int_2 = int_1\n",
    "int_2 = int_2 + 1\n",
    "if int_1 == int_2:\n",
    "    print(\"int is a mutable type\")\n",
    "else:\n",
    "    print(\"int is an immutable type\")"
   ]
  },
  {
   "cell_type": "code",
   "execution_count": 3,
   "metadata": {},
   "outputs": [
    {
     "name": "stdout",
     "output_type": "stream",
     "text": [
      "str is an immutable type\n"
     ]
    }
   ],
   "source": [
    "str_1 = \"Hello, world!\"\n",
    "str_2 = str_1\n",
    "str_2 = str_2[::2]\n",
    "if str_1 == str_2:\n",
    "    print(\"str is a mutable type\")\n",
    "else:\n",
    "    print(\"str is an immutable type\")    "
   ]
  },
  {
   "cell_type": "code",
   "execution_count": 4,
   "metadata": {},
   "outputs": [
    {
     "name": "stdout",
     "output_type": "stream",
     "text": [
      "list is a mutable type\n"
     ]
    }
   ],
   "source": [
    "list_1 = [\"Hello\", 93.8, \"world\", 10]\n",
    "list_2 = list_1\n",
    "list_2.pop()\n",
    "if list_1 == list_2:\n",
    "    print(\"list is a mutable type\")\n",
    "else:\n",
    "    print(\"list is an immutable type\")  "
   ]
  },
  {
   "cell_type": "code",
   "execution_count": 5,
   "metadata": {},
   "outputs": [
    {
     "name": "stdout",
     "output_type": "stream",
     "text": [
      "tuple is an immutable type\n"
     ]
    }
   ],
   "source": [
    "tuple_1 = sumstat([1,2,3,4,5])\n",
    "tuple_2 = tuple_1\n",
    "tuple_2 = sumstat([1,2,3,4,5,6])\n",
    "if tuple_1 == tuple_2:\n",
    "    print(\"tuple is a mutable type\")\n",
    "else:\n",
    "    print(\"tuple is an immutable type\")  "
   ]
  },
  {
   "cell_type": "code",
   "execution_count": 6,
   "metadata": {},
   "outputs": [
    {
     "name": "stdout",
     "output_type": "stream",
     "text": [
      "set is a mutable type\n"
     ]
    }
   ],
   "source": [
    "set_1 = {\"Doe, John\", \"Smith, Jane\", \"Brown, Bob\"}\n",
    "set_2 = set_1\n",
    "set_2.discard(\"Doe, John\")\n",
    "if set_1 == set_2:\n",
    "    print(\"set is a mutable type\")\n",
    "else:\n",
    "    print(\"set is an immutable type\") "
   ]
  },
  {
   "cell_type": "markdown",
   "metadata": {},
   "source": [
    "## Problem 3"
   ]
  },
  {
   "cell_type": "code",
   "execution_count": 7,
   "metadata": {},
   "outputs": [],
   "source": [
    "import calculator as cal\n",
    "from math import sqrt\n",
    "def hypotenuse(x,y):\n",
    "    return sqrt(cal.sum(cal.product(x,x), cal.product(y,y)))"
   ]
  },
  {
   "cell_type": "markdown",
   "metadata": {},
   "source": [
    "A module called `calculator.py` is written, with two functions that return the sum and the product of two arguments. The use these two functions from `calculator.py` and `sqrt` from `math` module to define a function `hypotenuse` which returns the hypotenus given two sides of a right triangle. For example:"
   ]
  },
  {
   "cell_type": "code",
   "execution_count": 8,
   "metadata": {},
   "outputs": [
    {
     "data": {
      "text/plain": [
       "5.0"
      ]
     },
     "execution_count": 8,
     "metadata": {},
     "output_type": "execute_result"
    }
   ],
   "source": [
    "hypotenuse(3,4)"
   ]
  },
  {
   "cell_type": "markdown",
   "metadata": {},
   "source": [
    "## Problem 4"
   ]
  },
  {
   "cell_type": "code",
   "execution_count": 9,
   "metadata": {},
   "outputs": [],
   "source": [
    "from itertools import combinations\n",
    "def power(A):\n",
    "    for i in range(0,len(A)+1):\n",
    "        print(list(combinations(A,i)))\n",
    "    return "
   ]
  },
  {
   "cell_type": "markdown",
   "metadata": {},
   "source": [
    "See below for an example that runs the function `power` on the set $A = \\{1, 2, 3 \\}$."
   ]
  },
  {
   "cell_type": "code",
   "execution_count": 10,
   "metadata": {},
   "outputs": [
    {
     "name": "stdout",
     "output_type": "stream",
     "text": [
      "[()]\n",
      "[(1,), (2,), (3,)]\n",
      "[(1, 2), (1, 3), (2, 3)]\n",
      "[(1, 2, 3)]\n"
     ]
    }
   ],
   "source": [
    "A = {1,2,3}\n",
    "power(A)"
   ]
  },
  {
   "cell_type": "markdown",
   "metadata": {},
   "source": [
    "## Problem 5 Shut the Box"
   ]
  },
  {
   "cell_type": "code",
   "execution_count": 11,
   "metadata": {},
   "outputs": [
    {
     "name": "stdout",
     "output_type": "stream",
     "text": [
      "roll:\n",
      "7\n",
      "Numbers to eliminate:7\n",
      "Seconds left:\n",
      "55.063194274902344\n",
      "remaining:\n",
      "[1, 2, 3, 4, 5, 6, 8, 9]\n",
      "roll:\n",
      "11\n",
      "Numbers to eliminate:2 9\n",
      "Seconds left:\n",
      "52.54648518562317\n",
      "remaining:\n",
      "[1, 3, 4, 5, 6, 8]\n",
      "roll:\n",
      "7\n",
      "Numbers to eliminate:1 6\n",
      "Seconds left:\n",
      "49.12352252006531\n",
      "remaining:\n",
      "[3, 4, 5, 8]\n",
      "roll:\n",
      "6\n",
      "Your score is:\n",
      "20\n"
     ]
    }
   ],
   "source": [
    "import random\n",
    "import box\n",
    "import sys\n",
    "import time\n",
    "\n",
    "start = time.time()\n",
    "remaining = [1,2,3,4,5,6,7,8,9]\n",
    "roll = random.randint(1,6) + random.randint(1,6)\n",
    "print(\"roll:\")\n",
    "print(roll)\n",
    "while box.isvalid(roll,remaining):\n",
    "    player_input = input(\"Numbers to eliminate:\")\n",
    "    player_input = box.parse_input(player_input, remaining)\n",
    "    if roll != sum(player_input):\n",
    "        print(\"Numbers don't sum to the roll.\")\n",
    "        continue\n",
    "    else:\n",
    "        end = time.time()\n",
    "        timeleft = 60 + start - end\n",
    "        print(\"Seconds left:\")\n",
    "        print(timeleft)\n",
    "        if timeleft < 0:\n",
    "            print(\"Game over!\")\n",
    "            sys.exit()\n",
    "        else:\n",
    "            eliminate = [int(i) for i in player_input]\n",
    "            remaining = [x for x in remaining if x not in eliminate]\n",
    "            print(\"remaining:\")\n",
    "            print(remaining)\n",
    "            roll = random.randint(1,6) + random.randint(1,6)\n",
    "            print(\"roll:\")\n",
    "            print(roll)\n",
    "        \n",
    "print(\"Your score is:\")\n",
    "print(sum(remaining))"
   ]
  }
 ],
 "metadata": {
  "kernelspec": {
   "display_name": "Python 3",
   "language": "python",
   "name": "python3"
  },
  "language_info": {
   "codemirror_mode": {
    "name": "ipython",
    "version": 3
   },
   "file_extension": ".py",
   "mimetype": "text/x-python",
   "name": "python",
   "nbconvert_exporter": "python",
   "pygments_lexer": "ipython3",
   "version": "3.7.3"
  }
 },
 "nbformat": 4,
 "nbformat_minor": 2
}
