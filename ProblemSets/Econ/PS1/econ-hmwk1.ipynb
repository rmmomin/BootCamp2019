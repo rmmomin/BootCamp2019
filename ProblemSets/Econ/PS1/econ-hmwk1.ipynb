{
 "cells": [
  {
   "cell_type": "markdown",
   "metadata": {},
   "source": [
    "# 1. Asset market equilibrium\n",
    "(a) Define a financial markets equilibrium and write down a system of equations that characterize this equilibrium"
   ]
  },
  {
   "cell_type": "markdown",
   "metadata": {},
   "source": [
    "Solution: Let $\\theta^h_i$ denote agent $h$'s position for asset $i$, and $q_i$ denote the price of asset $i$ denominated in period-0 consumption good, then agent $h$'s problem is to solve\n",
    "$$\\max_{c_0^h,\\theta_1^h,\\theta_2^h} v(c_0^h)+\\frac{1}{S} \\sum_{s=1}^{S} v(c_s^h)$$\n",
    "s.t. $$c_0^h = e_0^h - q_1 \\theta^h_1 - q_2 \\theta^h_2$$\n",
    "$$c_s^h = e_s^h + \\theta^h_1 A^1_s + \\theta^h_2 A^2_s$$\n",
    "By substituting the budget constraint into the maximization problem we have\n",
    "$$\\max_{\\theta_1^h,\\theta_2^h} v(e_0^h - q_1 \\theta^h_1 - q_2 \\theta^h_2)+\\frac{1}{S}\\sum_{s=1}^{S} v(e_s^h + \\theta^h_1 A^1_s + \\theta^h_2 A^2_s)$$\n",
    "Take the FOCs with respect to $\\theta_j^h$:\n",
    "\\begin{equation}\n",
    "\\frac{1}{S}\\sum_{s=1}^{S} v'(e_s^h + \\theta^h_1 A^1_s + \\theta^h_2 A^2_s)A^j_s - q_j v'(e_0^h - q_1 \\theta^h_1 - q_2 \\theta^h_2)=0\n",
    "\\end{equation}"
   ]
  },
  {
   "cell_type": "markdown",
   "metadata": {},
   "source": [
    "Definition: The equilibrium for the financial markets is an Arrow-Debrew equilibrium, characterized by agents' asset positions ${\\theta^h_1,\\theta^h_2}$ and asset prices ${q_1,q_2}$ that satisfy\n",
    "1. The FOCs specified above\n",
    "2. Asset market clearing: $$\\theta^1_1 + \\theta^2_1 = 0$$ and $$\\theta^1_2 + \\theta^2_2 = 0$$"
   ]
  },
  {
   "cell_type": "markdown",
   "metadata": {},
   "source": [
    "(b) Use Python to compute the equilibrium prices and allocations allocations for $\\gamma = 2$, $\\gamma = 4$, $\\gamma = 8$, $\\gamma = 166$."
   ]
  },
  {
   "cell_type": "code",
   "execution_count": 1,
   "metadata": {},
   "outputs": [
    {
     "name": "stdout",
     "output_type": "stream",
     "text": [
      "gamma =   2: Agent 1 buys 0.0195 units of asset 1 and -0.0000 units of asset 2. Price for asset 1 is 0.5898, and price for asset 2 is 0.7372\n",
      "gamma =   4: Agent 1 buys 0.0040 units of asset 1 and 0.0000 units of asset 2. Price for asset 1 is 0.5187, and price for asset 2 is 0.6483\n",
      "gamma =   6: Agent 1 buys 0.0002 units of asset 1 and 0.0000 units of asset 2. Price for asset 1 is 0.5010, and price for asset 2 is 0.6263\n",
      "gamma = 166: Agent 1 buys 0.0000 units of asset 1 and -0.0000 units of asset 2. Price for asset 1 is 0.5000, and price for asset 2 is 0.6250\n"
     ]
    }
   ],
   "source": [
    "# The following code solves the asset market equilibrium\n",
    "import numpy as np\n",
    "from scipy.optimize import fsolve\n",
    "\n",
    "def equilibrium_eqns(x,gamma):\n",
    "    # Define asset payoff in different states\n",
    "    A11 = 1\n",
    "    A12 = 1\n",
    "    A13 = 1\n",
    "    A14 = 1\n",
    "    A21 = 1\n",
    "    A22 = 1\n",
    "    A23 = 1.5\n",
    "    A24 = 1.5\n",
    "    # Define each agent's endowment in each state at period 1\n",
    "    e11 = 1\n",
    "    e12 = 2\n",
    "    e13 = 1\n",
    "    e14 = 2\n",
    "    e21 = 3\n",
    "    e22 = 1\n",
    "    e23 = 3\n",
    "    e24 = 1\n",
    "    \n",
    "    # The 6 elements of array x are: agent 1's position for assets 1 and 2; agent 2's position for assets 1 and 2;\n",
    "    # and prices for assets 1 and 2\n",
    "    return np.array([1/4*((e11+x[0]*A11+x[1]*A21)**(-gamma)*A11 + \n",
    "                         (e12+x[0]*A12+x[1]*A22)**(-gamma)*A12 +\n",
    "                         (e13+x[0]*A13+x[1]*A23)**(-gamma)*A13 +\n",
    "                         (e14+x[0]*A14+x[1]*A24)**(-gamma)*A14) -\n",
    "                         x[4]*(1-x[4]*x[0]-x[5]*x[1])**(-gamma),\n",
    "                    1/4*((e11+x[0]*A11+x[1]*A21)**(-gamma)*A21 + \n",
    "                         (e12+x[0]*A12+x[1]*A22)**(-gamma)*A22 +\n",
    "                         (e13+x[0]*A13+x[1]*A23)**(-gamma)*A23 +\n",
    "                         (e14+x[0]*A14+x[1]*A24)**(-gamma)*A24) -\n",
    "                         x[5]*(1-x[4]*x[0]-x[5]*x[1])**(-gamma),\n",
    "                    1/4*((e21+x[2]*A11+x[3]*A21)**(-gamma)*A11 + \n",
    "                         (e22+x[2]*A12+x[3]*A22)**(-gamma)*A12 +\n",
    "                         (e23+x[2]*A13+x[3]*A23)**(-gamma)*A13 +\n",
    "                         (e24+x[2]*A14+x[3]*A24)**(-gamma)*A14) -\n",
    "                         x[4]*(1-x[4]*x[2]-x[5]*x[3])**(-gamma),\n",
    "                    1/4*((e21+x[2]*A11+x[3]*A21)**(-gamma)*A21 + \n",
    "                         (e22+x[2]*A12+x[3]*A22)**(-gamma)*A22 +\n",
    "                         (e23+x[2]*A13+x[3]*A23)**(-gamma)*A23 +\n",
    "                         (e24+x[2]*A14+x[3]*A24)**(-gamma)*A24) -\n",
    "                         x[5]*(1-x[4]*x[2]-x[5]*x[3])**(-gamma),\n",
    "                    x[0]+x[2],\n",
    "                    x[1]+x[3]])\n",
    "\n",
    "sol = np.zeros((4,6))\n",
    "sol[0,:] = fsolve(equilibrium_eqns,[0.,0.,0.,0.,0.,0.],args=2)\n",
    "sol[1,:] = fsolve(equilibrium_eqns,[0.,0.,0.,0.,0.,0.],args=4)\n",
    "sol[2,:] = fsolve(equilibrium_eqns,[0.,0.,0.,0.,0.,0.],args=8)\n",
    "sol[3,:] = fsolve(equilibrium_eqns,[0.,0.,0.,0.,0.,0.],args=166)\n",
    "\n",
    "niter = 0\n",
    "for param in [2,4,6,166]:\n",
    "    print(\"gamma = %3d: Agent 1 buys %1.4f units of asset 1 and %1.4f units of asset 2. Price for asset 1 is %1.4f, and price for asset 2 is %1.4f\" %(param,sol[niter,0],sol[niter,1],sol[niter,4],sol[niter,5]))\n",
    "    niter = niter + 1"
   ]
  },
  {
   "cell_type": "markdown",
   "metadata": {},
   "source": [
    "# Problem 2"
   ]
  },
  {
   "cell_type": "code",
   "execution_count": 1,
   "metadata": {},
   "outputs": [],
   "source": [
    "import numpy as np\n",
    "import random"
   ]
  },
  {
   "cell_type": "code",
   "execution_count": 2,
   "metadata": {},
   "outputs": [],
   "source": [
    "def ret_sums(state):\n",
    "    row_sum = np.sum(state, axis=0)\n",
    "    col_sum = np.sum(state, axis=1)\n",
    "    diag_sum = np.array([int(state[0,0])+int(state[1,1])+int(state[2,2]), int(state[2,0])+ int(state[1,1])+ int(state[0,2])])\n",
    "    return row_sum, col_sum, diag_sum"
   ]
  },
  {
   "cell_type": "code",
   "execution_count": 3,
   "metadata": {},
   "outputs": [],
   "source": [
    "def check_win(state):\n",
    "    temp_state = state == 1\n",
    "    row_sum, col_sum, diag_sum = ret_sums(temp_state)\n",
    "    check1 = max([np.sum(row_sum>2), np.sum(col_sum>2), np.sum(diag_sum>2)])\n",
    "    temp_state = state == -1\n",
    "    row_sum, col_sum, diag_sum = ret_sums(temp_state)\n",
    "    check2 = max([np.sum(row_sum>2), np.sum(col_sum>2), np.sum(diag_sum>2)])\n",
    "    return max(check1, check2)"
   ]
  },
  {
   "cell_type": "code",
   "execution_count": 4,
   "metadata": {},
   "outputs": [
    {
     "name": "stdout",
     "output_type": "stream",
     "text": [
      "[[ 0  0  0]\n",
      " [ 0  0  0]\n",
      " [-1  0  0]]\n",
      "Enter coordinate: row\n",
      "0\n",
      "Enter coordinate: column\n",
      "0\n",
      "[[ 1  0  0]\n",
      " [ 0  0  0]\n",
      " [-1 -1  0]]\n",
      "Enter coordinate: row\n",
      "2\n",
      "Enter coordinate: column\n",
      "2\n",
      "[[ 1  0  0]\n",
      " [ 0 -1  0]\n",
      " [-1 -1  1]]\n",
      "Enter coordinate: row\n",
      "0\n",
      "Enter coordinate: column\n",
      "2\n",
      "computer wins!\n",
      "[[ 1 -1  1]\n",
      " [ 0 -1  0]\n",
      " [-1 -1  1]]\n"
     ]
    }
   ],
   "source": [
    "state = np.array([[0, 0, 0], [0, 0, 0], [-1, 0, 0]])\n",
    "while not check_win(state):\n",
    "    print(state)\n",
    "    valid = True\n",
    "    while valid:\n",
    "        print('Enter coordinate: row')\n",
    "        p1x = input()\n",
    "        print('Enter coordinate: column')\n",
    "        p1y = input()        \n",
    "        try:\n",
    "            if state[int(p1x),int(p1y)] != 0:\n",
    "                print('Invalid, try again.')\n",
    "            else:\n",
    "                state[int(p1x),int(p1y)] = 1\n",
    "                valid = False\n",
    "        except:\n",
    "            print('Invalid, try again.')\n",
    "    if check_win(state):\n",
    "            print('you win!')\n",
    "            break\n",
    "    try:\n",
    "        # 1. dynamic programming logic: cycle through available coords, if can win now, choose that cord\n",
    "        # 2. otherwise min continuation value, that is, choose a coord to block p1's win, if possible\n",
    "        # 3. if no threats, randomize (or randomize blocking coords)\n",
    "        \n",
    "        avail_cords = [(i,j) for i,j in zip(*np.where(state==0))] \n",
    "        # 1. dynamic programming logic: cycle through available coords, if can win now, choose that cord\n",
    "        win_cord = None\n",
    "        winning = False\n",
    "        for cord in avail_cords:\n",
    "            temp_state = state.copy()\n",
    "            temp_state[cord] = -1\n",
    "            if check_win(temp_state):\n",
    "                winning = True\n",
    "                win_cord = cord\n",
    "        if winning:\n",
    "            state[win_cord] = -1\n",
    "        # 2. otherwise min continuation value, that is, choose a coord to block p1's win, if possible\n",
    "        else:\n",
    "            possible_cords = []\n",
    "            for cord in avail_cords:\n",
    "                temp_state = state.copy()\n",
    "                temp_state[cord] = -1\n",
    "                temp_avail_cords = [(i,j) for i,j in zip(*np.where(temp_state==0))] \n",
    "                p1_win = False\n",
    "                for cord2 in temp_avail_cords:\n",
    "                    temp_state2 = temp_state.copy()\n",
    "                    temp_state2[cord2] = 1\n",
    "                    if check_win(temp_state2):\n",
    "                        p1_win = True\n",
    "                if not p1_win:\n",
    "                    possible_cords.append(cord)\n",
    "        # 3. if no threats, randomize (or randomize blocking coords)\n",
    "            state[random.choice(possible_cords)] = -1        \n",
    "    except:\n",
    "        if not check_win(state):\n",
    "            print('draw')\n",
    "            break\n",
    "    finally:\n",
    "        if check_win(state):\n",
    "            print('computer wins!')\n",
    "            break\n",
    "print(state)\n",
    "state = np.array([[0, 0, 0], [0, 0, 0], [-1, 0, 0]])"
   ]
  },
  {
   "cell_type": "markdown",
   "metadata": {},
   "source": [
    "# 3. Ramsey Model\n",
    "Suppose there is a single agent with $\\beta = 0.9, v(c) = \\log(c)$, there are two states which are iid with equal probabilities $\\pi_1 = \\pi_2 = 0.5$ and the firm's production function is $$f(k,1) = 0.9k^{0.3} + 0.3k,\\; f(k,2) = 1.1k^{0.3}+0.9k$$\n",
    "Discretize the possible capital values to 50 points. Use value function iteration to compute the policy functions (one for each shock) for consumption and investment. Plot these functions. Now use 500 points for admissible capital levels and redo the exercise."
   ]
  },
  {
   "cell_type": "markdown",
   "metadata": {},
   "source": [
    "Solution: Let $z$ denote the state, and assume that capital depreciates fully in each period. The problem of the agent can be summarized by the Bellman equation below: $$V(z,k) = \\max_{c,k'} v(c)+\\beta \\mathbb E_{z'|z}[V(z',k')]$$\n",
    "s.t. $$c+k'=f(k,z)$$\n",
    "By substituting the budget constraint into the Bellman equation we get $$V(z,k) = \\max_{k'} v(f(k,z)-k') + \\beta \\mathbb E_{z'|z}[V(z',k')]$$"
   ]
  },
  {
   "cell_type": "code",
   "execution_count": 5,
   "metadata": {},
   "outputs": [
    {
     "name": "stdout",
     "output_type": "stream",
     "text": [
      "1.0832478088006379\n",
      "0.0032845620332686565\n",
      "1.6927894375129426e-05\n"
     ]
    },
    {
     "data": {
      "image/png": "[encoded data removed]",
      "text/plain": [
       "<Figure size 432x288 with 1 Axes>"
      ]
     },
     "metadata": {
      "needs_background": "light"
     },
     "output_type": "display_data"
    },
    {
     "data": {
      "image/png": "[encoded data removed]",
      "text/plain": [
       "<Figure size 432x288 with 1 Axes>"
      ]
     },
     "metadata": {
      "needs_background": "light"
     },
     "output_type": "display_data"
    }
   ],
   "source": [
    "import numpy as np\n",
    "from matplotlib import pyplot as plt\n",
    "\n",
    "bbeta = 0.9\n",
    "v = lambda c: np.log(c)\n",
    "nk = 50\n",
    "nz = 2\n",
    "tol = 1e-6\n",
    "maxDiff = np.inf\n",
    "kgrid = np.linspace(0.2,2.0,nk)\n",
    "zTransition = 0.5*np.ones((nz,1))\n",
    "V = np.zeros((nk*nz,1))\n",
    "tempV = np.zeros((nk*nz,1))\n",
    "gk = np.zeros((nk*nz,1))\n",
    "\n",
    "niter = 1\n",
    "while maxDiff > tol:\n",
    "    Vm = np.reshape(V,(-1,nk)).T\n",
    "    VnextExp = Vm @ zTransition  \n",
    "                              \n",
    "    for i in range(nk*nz):\n",
    "        ik = int(np.floor(np.mod(i,nk)))\n",
    "        iz = int(np.mod(np.floor((i)/nk),nz))\n",
    "        vv = -np.inf\n",
    "        \n",
    "        k = kgrid[ik]\n",
    "        if iz == 0:\n",
    "            f_k = 0.9*k**0.3 + 0.3*k\n",
    "        else:\n",
    "            f_k = 1.1*k**0.3 + 0.9*k\n",
    "                      \n",
    "        for ikp in range(nk):\n",
    "            kp = kgrid[ikp]\n",
    "            c = f_k - kp\n",
    "            \n",
    "            if c <= 0:\n",
    "                break\n",
    "           \n",
    "            value = v(c) + bbeta*VnextExp[ikp]\n",
    "                \n",
    "            if value > vv:\n",
    "                vv = value\n",
    "                kChoice = ikp\n",
    "                \n",
    "        tempV[i] = vv\n",
    "        gk[i] = kChoice\n",
    "    \n",
    "    maxDiff = np.max(np.abs(V-tempV))\n",
    "    V = np.copy(tempV)    \n",
    "    \n",
    "    if niter == 1 or np.mod(niter,50) == 0:\n",
    "        print(maxDiff)\n",
    "        \n",
    "    niter = niter + 1\n",
    "\n",
    "# Plot value functions\n",
    "f1,ax1 = plt.subplots()\n",
    "ax1.plot(kgrid,V[0:nk],label='z=1')\n",
    "ax1.plot(kgrid,V[nk:],label='z=2')\n",
    "ax1.legend()\n",
    "ax1.set_xlabel('k')\n",
    "ax1.set_ylabel('V')\n",
    "\n",
    "# Plot capital policy functions\n",
    "f2,ax2 = plt.subplots()\n",
    "ax2.plot(kgrid,gk[0:nk],label='z=1')\n",
    "ax2.plot(kgrid,gk[nk:],label='z=2')\n",
    "ax2.legend()\n",
    "ax2.set_xlabel('k')\n",
    "ax2.set_ylabel(\"k'\")\n",
    "plt.show()"
   ]
  },
  {
   "cell_type": "markdown",
   "metadata": {},
   "source": [
    "# 4. Projection Methods for Ramsey Model\n",
    "Suppose capital depreciated fully in each period. The Bellman equation describing the agent's problem is as follows:\n",
    "$$V(z,k)=\\max_{k'} \\log(f(z,k)-k') + \\beta \\mathbb E_{z'|z} V(z',k')$$\n",
    "By the FOC and Envelope condition, we can get the following Euler equation:\n",
    "$$\\frac{1}{f(z,k)-k'} = \\beta \\mathbb E\\Bigg[\\frac{f'(z',k')}{f(z',k')-k'(k')}\\Bigg].$$"
   ]
  },
  {
   "cell_type": "markdown",
   "metadata": {},
   "source": [
    "## (1). Approximate capital policy function using piecewise linear function\n",
    "The steps for policy-time iteration using functional approximation are the following:\n",
    "1. Set capital grid $K=[K_1,K_2,...,K_n]$, guess capital policy function $K'(z,k)$ and error tolerance $\\bar\\epsilon$.\n",
    "2. Solve for the system of non-linear equations at grid points  $\\forall j\\in{1,...,n}$:\n",
    "$$R(z,k_j)\\equiv \\frac{1}{f(z,k_j)-K'(z,k_j)} - \\beta \\mathbb E\\Bigg[\\frac{f'(z',K'(z,k_j))}{f(z',K'(z,k_j))-L(z',K'(z,k_j);k,K')}\\Bigg] = 0$$ where $L(s,x;k,K')$ is the interpolated value of the policy function K' at states $z=s,k=x$. <br>\n",
    "In the discrete shock case, states are iid and occur with equal probabilities, so the error function $$R(z,k_j)\\equiv \\frac{1}{f(z,k_j)-K'(z,k_j)} - \\frac{\\beta}{2} \\Bigg[\\frac{f'(1,K'(z,k_j))}{f(1,K'(z,k_j))-L(1,K'(z,k_j);k,K')} + \\frac{f'(2,K'(z,k_j))}{f(2,K'(z,k_j))-L(2,K'(z,k_j);k,K')}\\Bigg]$$\n",
    "3. Calculate error $\\epsilon = \\max_{z,j} R(z,k_j)$. Continue iteration if $\\epsilon > \\bar\\epsilon$. Stop otherwise."
   ]
  },
  {
   "cell_type": "code",
   "execution_count": 3,
   "metadata": {},
   "outputs": [
    {
     "data": {
      "image/png": "[encoded data removed]",
      "text/plain": [
       "<Figure size 432x288 with 1 Axes>"
      ]
     },
     "metadata": {
      "needs_background": "light"
     },
     "output_type": "display_data"
    }
   ],
   "source": [
    "from scipy.interpolate import interp1d\n",
    "from scipy.optimize import fsolve, root\n",
    "from matplotlib import pyplot as plt\n",
    "import numpy.polynomial.chebyshev as cheb\n",
    "import numpy as np\n",
    "\n",
    "# Production function\n",
    "# z: aggregate state (TFP), k: current capital\n",
    "def f(z,k):\n",
    "    if z == 1:\n",
    "        return 0.9*k**0.3 + 0.3*k\n",
    "    else:\n",
    "        return 1.1*k**0.3 + 0.9*k\n",
    "\n",
    "# Derivative of production function\n",
    "def fp(z,k):\n",
    "    if z == 1:\n",
    "        return 0.27*k**(-0.7) + 0.3\n",
    "    else:\n",
    "        return 0.33*k**(-0.7) + 0.9\n",
    "\n",
    "# Residual function evaluated at k=x\n",
    "# kp: capital policy function (nk*nz)\n",
    "def R(x,z,beta,k,kp,kgrid):\n",
    "    lhs = 1 / (f(z,k)-x)\n",
    "    L1 = interp1d(kgrid,kp[:,0])\n",
    "    L2 = interp1d(kgrid,kp[:,1])\n",
    "    rhs = beta * 0.5*(fp(1,x)/(f(1,x)-L1(x)) + fp(2,x)/(f(2,x)-L2(x)))\n",
    "    return abs(lhs-rhs)                 \n",
    "\n",
    "nk = 30                             # number of capital grid points\n",
    "kmin = 0.1                          # minimum capital\n",
    "kmax = 1.5                          # maximum capital\n",
    "kgrid = np.linspace(kmin,kmax,nk)\n",
    "tol = 1e-5                          # tolerance level for error\n",
    "gk = np.zeros((nk,2))               # capital policy function\n",
    "maxDiff = np.inf\n",
    "beta = 0.9\n",
    "\n",
    "# Main step: find capital policy that satisfies the Euler equation\n",
    "while maxDiff > tol:\n",
    "    gkTemp = np.zeros((nk,2))       # capital policy in the next iteration\n",
    "    residuals = np.zeros((nk,2))\n",
    "    for ik in range(nk):\n",
    "        for iz in range(2):\n",
    "            k = kgrid[ik]\n",
    "            z = iz + 1\n",
    "            ksol = fsolve(R,0.1,args=(z,beta,k,gk,kgrid))\n",
    "            gkTemp[ik,iz] = ksol\n",
    "    \n",
    "    for ik in range(nk):\n",
    "        for iz in range(2):\n",
    "            k = kgrid[ik]\n",
    "            z = iz + 1\n",
    "            residuals[ik,iz] = R(gkTemp[ik,iz],z,beta,k,gkTemp,kgrid)\n",
    "            \n",
    "    maxDiff = abs(residuals).max()\n",
    "    gk = np.copy(gkTemp)\n",
    "\n",
    "# Plot the policy functions\n",
    "plt.plot(kgrid,gk[:,0],label='z=1')\n",
    "plt.plot(kgrid,gk[:,1],label='z=2')\n",
    "plt.ylim([min(kgrid),max(kgrid)])\n",
    "plt.xlabel(r\"$k$\")\n",
    "plt.ylabel(r\"$k'$\")\n",
    "plt.legend()\n",
    "plt.show()"
   ]
  },
  {
   "cell_type": "markdown",
   "metadata": {},
   "source": [
    "## (2). Approximate capital policy function using Chebyshev polynomial and collocation points\n",
    "The steps are the following:\n",
    "1. Set grid points $K=[K_1,K_2,...,K_n]$ by choosing $n,K_{min},K_{max}$ and setting $K_j = (Z^n_j+1)(K_{max}-K_{min})/2+K_{min}$, where $Z^n_j,j=1,...,n$ are the Chebyshev zeros of the polynomials. Guess coefficients ${\\theta^i_j}$ for Chebyshev basis functions ${T_1(x),...,T_n(x)}$.\n",
    "2. Solve for $\\theta$'s in the system of non-linear equations, $\\forall j\\in{1,...,n}$:\n",
    "$$R(z_i,K_j;\\theta)\\equiv \\frac{1}{f(z_i,k_j)-K'(z_i,k_j;\\theta)} - \\beta \\mathbb E\\Bigg[\\frac{f'(z',K'(z_i,k_j;\\theta))}{f(z',K'(z_i,k_j;\\theta))-K'(z',K'(z_i,k_j;\\theta);\\theta)}\\Bigg] = 0$$ where $K'(z_i,k_j;\\theta)=\\sum_j \\theta^i_j T_j(x)$ Chebyshev approximations of the policy function.\n",
    "3. (a) Calculate error: $\\epsilon = \\max_{i,j} R_{i,j}$ <br>\n",
    "(b) Stop if $\\epsilon<\\bar \\epsilon$, otherwise reiterate."
   ]
  },
  {
   "cell_type": "code",
   "execution_count": 4,
   "metadata": {},
   "outputs": [
    {
     "data": {
      "image/png": "[encoded data removed]",
      "text/plain": [
       "<Figure size 432x288 with 1 Axes>"
      ]
     },
     "metadata": {
      "needs_background": "light"
     },
     "output_type": "display_data"
    }
   ],
   "source": [
    "# Residual function of the Euler equation\n",
    "def R_chebyshev(x,n,beta,kgrid,kmin,kmax):\n",
    "    res = np.zeros((n*2,1))                      # residuals of Euler equations evaluated at grid points\n",
    "    coeff = np.zeros((2,n))                      # coefficients of Chebyshev polynomials\n",
    "    coeff[0,:] = x[0:n]\n",
    "    coeff[1,:] = x[n:]\n",
    "    \n",
    "    # Create Chebyshev basis functions\n",
    "    z = -np.cos((2*(np.linspace(1,n,n))-1)/(2*n)*np.pi)  # Chebyshev zeros in [-1,1]\n",
    "    T_k = np.ones((n,n))                                 # columns are polynomials of different degrees\n",
    "    T_k[:,1] = z\n",
    "    for i in range(2,n):\n",
    "        T_k[:,i] = 2*z*T_k[:,i-1] - T_k[:,i-2]\n",
    "    \n",
    "    lhs = np.zeros((2*n,))\n",
    "    rhs = np.zeros((2*n,))\n",
    "    \n",
    "    # Iterate over the two aggregate states\n",
    "    for iz in range(2):\n",
    "        gk = np.zeros((n,1))                             # capital policy function at current z\n",
    "        \n",
    "        # Iterate over capital in this period\n",
    "        for ik in range(n):\n",
    "            k = kgrid[ik]\n",
    "            kp = coeff[iz,:].dot(T_k[ik,:])\n",
    "            \n",
    "            # Make sure capital next period is in the [kmin,kmax] range, and consumption > 0\n",
    "            kp = max(kp,kmin+0.01)\n",
    "            kp = min(kp,kmax-0.01,f(iz+1,k)-0.01)            \n",
    "            gk[ik] = kp\n",
    "        \n",
    "        gk_scaled = (2*gk-(kmin+kmax))/(kmax-kmin)      # rescale capital policy to the [-1,1] range\n",
    "        \n",
    "        # Create Chebyshev basis functions evaluated at capital in the next period\n",
    "        T_g_k = np.ones((n,n))\n",
    "        T_g_k[:,[1]] = gk_scaled\n",
    "        for i in range(2,n):\n",
    "            T_g_k[:,[i]] = 2*gk_scaled*T_g_k[:,[i-1]] - T_g_k[:,[i-2]]\n",
    "        \n",
    "        # Iterate over capital in this period\n",
    "        for ik in range(n):\n",
    "            k = kgrid[ik]\n",
    "            kpp = np.zeros((2,1))                      # capital two periods later\n",
    "            \n",
    "            # Iterate over aggregate states in the next period\n",
    "            for izp in range(2):              \n",
    "                kpp[izp] = coeff[izp,:].dot(T_g_k[ik,:])\n",
    "                \n",
    "                # Make sure capital two periods later is also in [kmin,kmax], and consumption in the next period > 0\n",
    "                kpp[izp] = max(kpp[izp],kmin+0.01)\n",
    "                kpp[izp] = min(kpp[izp],kmax-0.01,f(izp+1,gk[ik])-0.01)\n",
    "            \n",
    "            lhs[iz*n+ik] = 1 / (f(iz+1,k)-gk[ik])      # left hand side of the Euler equation\n",
    "            rhs[iz*n+ik] = beta * 0.5 * (fp(1,gk[ik])/(f(1,gk[ik])-kpp[0]) + fp(2,gk[ik])/(f(2,gk[ik])-kpp[1]))\n",
    "                                                       # right hand side of the Euler equation\n",
    "            \n",
    "    res = abs(lhs - rhs)\n",
    "    return res\n",
    "\n",
    "###################################################\n",
    "maxDiff = np.inf\n",
    "n_list = np.array((3,4,5,6))                           # gradually increase the degree of Chebyshev polynomials (otherwise hard to converge)\n",
    "n = min(n_list)\n",
    "coeff = np.vstack((np.array((0.3)),np.zeros((n-1,1)),np.array((0.8)),np.zeros((n-1,1))))\n",
    "                                                       # coefficients of the Chebyshev polynomials (coefficient of the constant term should be close to steady state capital)\n",
    "for n in n_list:\n",
    "    z = -np.cos((2*(np.linspace(1,n,n))-1)/(2*n)*np.pi)   # Chebyshev zeros\n",
    "    kgrid_colloc = kmin + (z+1)*(kmax-kmin)/2             # capital grid\n",
    "    \n",
    "    if n > min(n_list):\n",
    "        coeff = np.vstack((np.array((0.3)),np.zeros((n-1,1)),np.array((0.8)),np.zeros((n-1,1))))\n",
    "        coeff[0:nOld] = coeff_sol[0:nOld].reshape(nOld,1)\n",
    "        coeff[n:n+nOld] = coeff_sol[nOld:].reshape(nOld,1)\n",
    "    \n",
    "    # Solve for the coefficients\n",
    "    while maxDiff > tol:\n",
    "        coeff_sol = fsolve(R_chebyshev,coeff,args=(n,beta,kgrid_colloc,kmin,kmax))\n",
    "        residuals = R_chebyshev(coeff_sol,n,beta,kgrid_colloc,kmin,kmax)\n",
    "        maxDiff = residuals.max()\n",
    "        \n",
    "    maxDiff = np.inf\n",
    "    nOld = n\n",
    "\n",
    "# Recover policy functions from the coefficients\n",
    "T_k = np.ones((n,n))\n",
    "z = -np.cos((2*(np.linspace(1,n,n))-1)/(2*n)*np.pi)\n",
    "kgrid_colloc = kmin + (z+1)*(kmax-kmin)/2\n",
    "T_k[:,1] = z\n",
    "for i in range(2,n):\n",
    "    T_k[:,i] = 2*z*T_k[:,i-1] - T_k[:,i-2]\n",
    "\n",
    "gk = np.zeros((n,2))                                       # capital policy function\n",
    "for iz in range(2):    \n",
    "    for ik in range(n):\n",
    "        k = kgrid[ik]\n",
    "        kp = coeff[iz*n:(iz+1)*n].T.dot(T_k[ik,:])\n",
    "        gk[ik,iz] = kp\n",
    "\n",
    "# Plot the results\n",
    "plt.plot(kgrid_colloc,gk[:,0],label='z=1')\n",
    "plt.plot(kgrid_colloc,gk[:,1],label='z=2')\n",
    "plt.ylim([min(kgrid),max(kgrid)])\n",
    "plt.xlabel(r\"$k$\")\n",
    "plt.ylabel(r\"$k'$\")\n",
    "plt.legend()\n",
    "plt.show()\n"
   ]
  },
  {
   "cell_type": "code",
   "execution_count": null,
   "metadata": {},
   "outputs": [],
   "source": []
  }
 ],
 "metadata": {
  "kernelspec": {
   "display_name": "Python 3",
   "language": "python",
   "name": "python3"
  },
  "language_info": {
   "codemirror_mode": {
    "name": "ipython",
    "version": 3
   },
   "file_extension": ".py",
   "mimetype": "text/x-python",
   "name": "python",
   "nbconvert_exporter": "python",
   "pygments_lexer": "ipython3",
   "version": "3.7.3"
  }
 },
 "nbformat": 4,
 "nbformat_minor": 2
}
