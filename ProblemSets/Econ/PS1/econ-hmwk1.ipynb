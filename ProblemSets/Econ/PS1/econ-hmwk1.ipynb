{
 "cells": [
  {
   "cell_type": "markdown",
   "metadata": {},
   "source": [
    "# Problem 2"
   ]
  },
  {
   "cell_type": "code",
   "execution_count": 1,
   "metadata": {},
   "outputs": [],
   "source": [
    "import numpy as np\n",
    "import random"
   ]
  },
  {
   "cell_type": "code",
   "execution_count": 2,
   "metadata": {},
   "outputs": [],
   "source": [
    "def ret_sums(state):\n",
    "    row_sum = np.sum(state, axis=0)\n",
    "    col_sum = np.sum(state, axis=1)\n",
    "    diag_sum = np.array([int(state[0,0])+int(state[1,1])+int(state[2,2]), int(state[2,0])+ int(state[1,1])+ int(state[0,2])])\n",
    "    return row_sum, col_sum, diag_sum"
   ]
  },
  {
   "cell_type": "code",
   "execution_count": 3,
   "metadata": {},
   "outputs": [],
   "source": [
    "def check_win(state):\n",
    "    temp_state = state == 1\n",
    "    row_sum, col_sum, diag_sum = ret_sums(temp_state)\n",
    "    check1 = max([np.sum(row_sum>2), np.sum(col_sum>2), np.sum(diag_sum>2)])\n",
    "    temp_state = state == -1\n",
    "    row_sum, col_sum, diag_sum = ret_sums(temp_state)\n",
    "    check2 = max([np.sum(row_sum>2), np.sum(col_sum>2), np.sum(diag_sum>2)])\n",
    "    return max(check1, check2)"
   ]
  },
  {
   "cell_type": "code",
   "execution_count": 4,
   "metadata": {},
   "outputs": [
    {
     "name": "stdout",
     "output_type": "stream",
     "text": [
      "[[ 0  0  0]\n",
      " [ 0  0  0]\n",
      " [-1  0  0]]\n",
      "Enter coordinate: row\n",
      "1\n",
      "Enter coordinate: column\n",
      "1\n",
      "[[ 0  0  0]\n",
      " [ 0  1  0]\n",
      " [-1  0 -1]]\n",
      "Enter coordinate: row\n",
      "2\n",
      "Enter coordinate: column\n",
      "1\n",
      "[[ 0 -1  0]\n",
      " [ 0  1  0]\n",
      " [-1  1 -1]]\n",
      "Enter coordinate: row\n",
      "0\n",
      "Enter coordinate: column\n",
      "0\n",
      "[[ 1 -1 -1]\n",
      " [ 0  1  0]\n",
      " [-1  1 -1]]\n",
      "Enter coordinate: row\n",
      "1\n",
      "Enter coordinate: column\n",
      "0\n",
      "computer wins!\n",
      "[[ 1 -1 -1]\n",
      " [ 1  1 -1]\n",
      " [-1  1 -1]]\n"
     ]
    }
   ],
   "source": [
    "state = np.array([[0, 0, 0], [0, 0, 0], [-1, 0, 0]])\n",
    "while not check_win(state):\n",
    "    print(state)\n",
    "    valid = True\n",
    "    while valid:\n",
    "        print('Enter coordinate: row')\n",
    "        p1x = input()\n",
    "        print('Enter coordinate: column')\n",
    "        p1y = input()        \n",
    "        try:\n",
    "            if state[int(p1x),int(p1y)] != 0:\n",
    "                print('Invalid, try again.')\n",
    "            else:\n",
    "                state[int(p1x),int(p1y)] = 1\n",
    "                valid = False\n",
    "        except:\n",
    "            print('Invalid, try again.')\n",
    "    if check_win(state):\n",
    "            print('you win!')\n",
    "            break\n",
    "    try:\n",
    "        # 1. dynamic programming logic: cycle through available coords, if can win now, choose that cord\n",
    "        # 2. otherwise min continuation value, that is, choose a coord to block p1's win, if possible\n",
    "        # 3. if no threats, randomize (or randomize blocking coords)\n",
    "        \n",
    "        avail_cords = [(i,j) for i,j in zip(*np.where(state==0))] \n",
    "        # 1. dynamic programming logic: cycle through available coords, if can win now, choose that cord\n",
    "        win_cord = None\n",
    "        winning = False\n",
    "        for cord in avail_cords:\n",
    "            temp_state = state.copy()\n",
    "            temp_state[cord] = -1\n",
    "            if check_win(temp_state):\n",
    "                winning = True\n",
    "                win_cord = cord\n",
    "        if winning:\n",
    "            state[win_cord] = -1\n",
    "        # 2. otherwise min continuation value, that is, choose a coord to block p1's win, if possible\n",
    "        else:\n",
    "            possible_cords = []\n",
    "            for cord in avail_cords:\n",
    "                temp_state = state.copy()\n",
    "                temp_state[cord] = -1\n",
    "                temp_avail_cords = [(i,j) for i,j in zip(*np.where(temp_state==0))] \n",
    "                p1_win = False\n",
    "                for cord2 in temp_avail_cords:\n",
    "                    temp_state2 = temp_state.copy()\n",
    "                    temp_state2[cord2] = 1\n",
    "                    if check_win(temp_state2):\n",
    "                        p1_win = True\n",
    "                if not p1_win:\n",
    "                    possible_cords.append(cord)\n",
    "        # 3. if no threats, randomize (or randomize blocking coords)\n",
    "            state[random.choice(possible_cords)] = -1        \n",
    "    except:\n",
    "        if not check_win(state):\n",
    "            print('draw')\n",
    "            break\n",
    "    finally:\n",
    "        if check_win(state):\n",
    "            print('computer wins!')\n",
    "            break\n",
    "print(state)\n",
    "state = np.array([[0, 0, 0], [0, 0, 0], [-1, 0, 0]])"
   ]
  },
  {
   "cell_type": "code",
   "execution_count": null,
   "metadata": {},
   "outputs": [],
   "source": []
  }
 ],
 "metadata": {
  "kernelspec": {
   "display_name": "Python 3",
   "language": "python",
   "name": "python3"
  },
  "language_info": {
   "codemirror_mode": {
    "name": "ipython",
    "version": 3
   },
   "file_extension": ".py",
   "mimetype": "text/x-python",
   "name": "python",
   "nbconvert_exporter": "python",
   "pygments_lexer": "ipython3",
   "version": "3.7.3"
  }
 },
 "nbformat": 4,
 "nbformat_minor": 2
}
