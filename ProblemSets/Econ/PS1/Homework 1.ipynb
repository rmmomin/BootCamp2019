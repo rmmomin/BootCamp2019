{
 "cells": [
  {
   "cell_type": "markdown",
   "metadata": {},
   "source": [
    "# 1. Asset market equilibrium\n",
    "(a) Define a financial markets equilibrium and write down a system of equations that characterize this equilibrium"
   ]
  },
  {
   "cell_type": "markdown",
   "metadata": {},
   "source": [
    "Solution: Let $\\theta^h_i$ denote agent $h$'s position for asset $i$, and $q_i$ denote the price of asset $i$ denominated in period-0 consumption good, then agent $h$'s problem is to solve\n",
    "$$\\max_{c_0^h,\\theta_1^h,\\theta_2^h} v(c_0^h)+\\frac{1}{S} \\sum_{s=1}^{S} v(c_s^h)$$\n",
    "s.t. $$c_0^h = e_0^h - q_1 \\theta^h_1 - q_2 \\theta^h_2$$\n",
    "$$c_s^h = e_s^h + \\theta^h_1 A^1_s + \\theta^h_2 A^2_s$$\n",
    "By substituting the budget constraint into the maximization problem we have\n",
    "$$\\max_{\\theta_1^h,\\theta_2^h} v(e_0^h - q_1 \\theta^h_1 - q_2 \\theta^h_2)+\\frac{1}{S}\\sum_{s=1}^{S} v(e_s^h + \\theta^h_1 A^1_s + \\theta^h_2 A^2_s)$$\n",
    "Take the FOCs with respect to $\\theta_j^h$:\n",
    "\\begin{equation}\n",
    "\\frac{1}{S}\\sum_{s=1}^{S} v'(e_s^h + \\theta^h_1 A^1_s + \\theta^h_2 A^2_s)A^j_s - q_j v'(e_0^h - q_1 \\theta^h_1 - q_2 \\theta^h_2)=0\n",
    "\\end{equation}"
   ]
  },
  {
   "cell_type": "markdown",
   "metadata": {},
   "source": [
    "Definition: The equilibrium for the financial markets is an Arrow-Debrew equilibrium, characterized by agents' asset positions ${\\theta^h_1,\\theta^h_2}$ and asset prices ${q_1,q_2}$ that satisfy\n",
    "1. The FOCs specified above\n",
    "2. Asset market clearing: $$\\theta^1_1 + \\theta^2_1 = 0$$ and $$\\theta^1_2 + \\theta^2_2 = 0$$"
   ]
  },
  {
   "cell_type": "markdown",
   "metadata": {},
   "source": [
    "(b) Use Python to compute the equilibrium prices and allocations allocations for $\\gamma = 2$, $\\gamma = 4$, $\\gamma = 8$, $\\gamma = 166$."
   ]
  },
  {
   "cell_type": "code",
   "execution_count": 51,
   "metadata": {},
   "outputs": [
    {
     "name": "stdout",
     "output_type": "stream",
     "text": [
      "[ 1.95406655e-02 -1.22992955e-15 -1.95406655e-02  1.22992955e-15\n",
      "  5.89777656e-01  7.37222070e-01]\n"
     ]
    }
   ],
   "source": [
    "# The following code solves the asset market equilibrium\n",
    "import numpy as np\n",
    "from scipy.optimize import fsolve\n",
    "\n",
    "def equilibrium_eqns(x,gamma):\n",
    "    # Define asset payoff in different states\n",
    "    A11 = 1\n",
    "    A12 = 1\n",
    "    A13 = 1\n",
    "    A14 = 1\n",
    "    A21 = 1\n",
    "    A22 = 1\n",
    "    A23 = 1.5\n",
    "    A24 = 1.5\n",
    "    # Define each agent's endowment in each state at period 1\n",
    "    e11 = 1\n",
    "    e12 = 2\n",
    "    e13 = 1\n",
    "    e14 = 2\n",
    "    e21 = 3\n",
    "    e22 = 1\n",
    "    e23 = 3\n",
    "    e24 = 1\n",
    "    \n",
    "    # The 6 elements of array x are: agent 1's position for assets 1 and 2; agent 2's position for assets 1 and 2;\n",
    "    # and prices for assets 1 and 2\n",
    "    return np.array([1/4*((e11+x[0]*A11+x[1]*A21)**(-gamma)*A11 + \n",
    "                         (e12+x[0]*A12+x[1]*A22)**(-gamma)*A12 +\n",
    "                         (e13+x[0]*A13+x[1]*A23)**(-gamma)*A13 +\n",
    "                         (e14+x[0]*A14+x[1]*A24)**(-gamma)*A14) -\n",
    "                         x[4]*(1-x[4]*x[0]-x[5]*x[1])**(-gamma),\n",
    "                    1/4*((e11+x[0]*A11+x[1]*A21)**(-gamma)*A21 + \n",
    "                         (e12+x[0]*A12+x[1]*A22)**(-gamma)*A22 +\n",
    "                         (e13+x[0]*A13+x[1]*A23)**(-gamma)*A23 +\n",
    "                         (e14+x[0]*A14+x[1]*A24)**(-gamma)*A24) -\n",
    "                         x[5]*(1-x[4]*x[0]-x[5]*x[1])**(-gamma),\n",
    "                    1/4*((e21+x[2]*A11+x[3]*A21)**(-gamma)*A11 + \n",
    "                         (e22+x[2]*A12+x[3]*A22)**(-gamma)*A12 +\n",
    "                         (e23+x[2]*A13+x[3]*A23)**(-gamma)*A13 +\n",
    "                         (e24+x[2]*A14+x[3]*A24)**(-gamma)*A14) -\n",
    "                         x[4]*(1-x[4]*x[2]-x[5]*x[3])**(-gamma),\n",
    "                    1/4*((e21+x[2]*A11+x[3]*A21)**(-gamma)*A21 + \n",
    "                         (e22+x[2]*A12+x[3]*A22)**(-gamma)*A22 +\n",
    "                         (e23+x[2]*A13+x[3]*A23)**(-gamma)*A23 +\n",
    "                         (e24+x[2]*A14+x[3]*A24)**(-gamma)*A24) -\n",
    "                         x[5]*(1-x[4]*x[2]-x[5]*x[3])**(-gamma),\n",
    "                    x[0]+x[2],\n",
    "                    x[1]+x[3]])\n",
    "\n",
    "sol1 = fsolve(equilibrium_eqns,[0.,0.,0.,0.,0.,0.],args=2)\n",
    "sol2 = fsolve(equilibrium_eqns,[0.,0.,0.,0.,0.,0.],args=4)\n",
    "sol3 = fsolve(equilibrium_eqns,[0.,0.,0.,0.,0.,0.],args=8)\n",
    "sol4 = fsolve(equilibrium_eqns,[0.,0.,0.,0.,0.,0.],args=166)\n",
    "\n",
    "print(sol1)"
   ]
  },
  {
   "cell_type": "markdown",
   "metadata": {},
   "source": [
    "# 3. Ramsey Model\n",
    "Suppose there is a single agent with $\\beta = 0.9, v(c) = \\log(c)$, there are two states which are iid with equal probabilities $\\pi_1 = \\pi_2 = 0.5$ and the firm's production function is $$f(k,1) = 0.9k^{0.3} + 0.3k,\\; f(k,2) = 1.1k^{0.3}+0.9k$$\n",
    "Discretize the possible capital values to 50 points. Use value function iteration to compute the policy functions (one for each shock) for consumption and investment. Plot these functions. Now use 500 points for admissible capital levels and redo the exercise."
   ]
  },
  {
   "cell_type": "markdown",
   "metadata": {},
   "source": [
    "Solution: Let $z$ denote the state, and assume that capital depreciates fully in each period. The problem of the agent can be summarized by the Bellman equation below: $$V(z,k) = \\max_{c,k'} v(c)+\\beta \\mathbb E_{z'|z}[V(z',k')]$$\n",
    "s.t. $$c+k'=f(k,z)$$\n",
    "By substituting the budget constraint into the Bellman equation we get $$V(z,k) = \\max_{k'} v(f(k,z)-k') + \\beta \\mathbb E_{z'|z}[V(z',k')]$$"
   ]
  },
  {
   "cell_type": "code",
   "execution_count": 129,
   "metadata": {},
   "outputs": [
    {
     "name": "stdout",
     "output_type": "stream",
     "text": [
      "1.0832478088006379\n",
      "0.0032845620332686565\n",
      "1.6927894375129426e-05\n",
      "128\n"
     ]
    },
    {
     "data": {
      "image/png": "[encoded data removed]",
      "text/plain": [
       "<Figure size 432x288 with 1 Axes>"
      ]
     },
     "metadata": {
      "needs_background": "light"
     },
     "output_type": "display_data"
    }
   ],
   "source": [
    "import numpy as np\n",
    "from matplotlib import pyplot as plt\n",
    "\n",
    "bbeta = 0.9\n",
    "v = lambda c: np.log(c)\n",
    "nk = 50\n",
    "nz = 2\n",
    "tol = 1e-6\n",
    "maxDiff = np.inf\n",
    "kgrid = np.linspace(0.2,2.0,nk)\n",
    "zTransition = 0.5*np.ones((nz,1))\n",
    "V = np.zeros((nk*nz,1))\n",
    "tempV = np.zeros((nk*nz,1))\n",
    "gk = np.zeros((nk*nz,1))\n",
    "\n",
    "niter = 1\n",
    "while maxDiff > tol:\n",
    "    Vm = np.reshape(V,(-1,nk)).T\n",
    "    VnextExp = Vm @ zTransition  \n",
    "                              \n",
    "    for i in range(nk*nz):\n",
    "        ik = int(np.floor(np.mod(i,nk)))\n",
    "        iz = int(np.mod(np.floor((i)/nk),nz))\n",
    "        vv = -np.inf\n",
    "        \n",
    "        k = kgrid[ik]\n",
    "        if iz == 0:\n",
    "            f_k = 0.9*k**0.3 + 0.3*k\n",
    "        else:\n",
    "            f_k = 1.1*k**0.3 + 0.9*k\n",
    "                      \n",
    "        for ikp in range(nk):\n",
    "            kp = kgrid[ikp]\n",
    "            c = f_k - kp\n",
    "            \n",
    "            if c <= 0:\n",
    "                break\n",
    "           \n",
    "            value = v(c) + bbeta*VnextExp[ikp]\n",
    "                \n",
    "            if value > vv:\n",
    "                vv = value\n",
    "                kChoice = ikp\n",
    "                \n",
    "        tempV[i] = vv\n",
    "        gk[i] = kChoice\n",
    "    \n",
    "    maxDiff = np.max(np.abs(V-tempV))\n",
    "    V = np.copy(tempV)    \n",
    "    \n",
    "    if niter == 1 or np.mod(niter,50) == 0:\n",
    "        print(maxDiff)\n",
    "        \n",
    "    niter = niter + 1\n",
    "    \n",
    "plt.plot(V)\n",
    "print(niter)\n",
    "plt.plot(gk)\n",
    "plt.show()"
   ]
  },
  {
   "cell_type": "code",
   "execution_count": null,
   "metadata": {},
   "outputs": [],
   "source": []
  }
 ],
 "metadata": {
  "kernelspec": {
   "display_name": "Python 3",
   "language": "python",
   "name": "python3"
  },
  "language_info": {
   "codemirror_mode": {
    "name": "ipython",
    "version": 3
   },
   "file_extension": ".py",
   "mimetype": "text/x-python",
   "name": "python",
   "nbconvert_exporter": "python",
   "pygments_lexer": "ipython3",
   "version": "3.7.3"
  }
 },
 "nbformat": 4,
 "nbformat_minor": 2
}
