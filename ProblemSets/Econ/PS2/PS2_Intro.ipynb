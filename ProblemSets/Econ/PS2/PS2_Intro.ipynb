{
 "cells": [
  {
   "cell_type": "markdown",
   "metadata": {},
   "source": [
    "# Week 3: DSGE\n",
    "## Problem set 1: Introduction to DSGE"
   ]
  },
  {
   "cell_type": "code",
   "execution_count": 1,
   "metadata": {},
   "outputs": [],
   "source": [
    "import numpy as np\n",
    "from scipy import optimize"
   ]
  },
  {
   "cell_type": "code",
   "execution_count": 2,
   "metadata": {},
   "outputs": [],
   "source": [
    "# Exercise 5\n",
    "\n",
    "output = lambda k,l,z: k**α*(l*np.exp(z))**(1-α)\n",
    "investment = lambda k: k - (1-δ)*k"
   ]
  },
  {
   "cell_type": "code",
   "execution_count": 3,
   "metadata": {},
   "outputs": [],
   "source": [
    "uc5 = lambda c, γ: c**(-γ)\n",
    "ul5 = lambda c, γ: 0\n",
    "r5 = lambda α, k: α * k**(α - 1)\n",
    "w5 = lambda α, k: (1-α) * k ** α\n",
    "T5 = lambda τ, w, r, δ, k: τ * (w + (r - δ) * k)"
   ]
  },
  {
   "cell_type": "code",
   "execution_count": 4,
   "metadata": {},
   "outputs": [
    {
     "name": "stdout",
     "output_type": "stream",
     "text": [
      "[1.48450482 7.28749795]\n"
     ]
    }
   ],
   "source": [
    "def eqbm5(x):\n",
    "    c, k= x[0], x[1]\n",
    "    ul = ul5(c, γ)\n",
    "    uc = uc5(c, γ)\n",
    "    r = r5(α, k)\n",
    "    w = w5(α, k)\n",
    "    l = 1\n",
    "    f1 = c - (w*l + (r-δ)*k)\n",
    "    f2 = uc - β * uc * ((r-δ)*(1-τ)+1)\n",
    "    return (f1,f2)\n",
    "\n",
    "\n",
    "γ = 2.5\n",
    "β = 0.98\n",
    "α = 0.4\n",
    "δ = 0.1\n",
    "τ = 0.05\n",
    "z = 0\n",
    "print(optimize.fsolve(eqbm5, (1,7)))"
   ]
  },
  {
   "cell_type": "code",
   "execution_count": 5,
   "metadata": {},
   "outputs": [
    {
     "name": "stdout",
     "output_type": "stream",
     "text": [
      "output is 2.2133\n",
      "investment is 0.7287\n"
     ]
    }
   ],
   "source": [
    "(c,k) = optimize.fsolve(eqbm5, (1,7))\n",
    "l = 1\n",
    "ul = ul5(c, γ)\n",
    "uc = uc5(c, γ)\n",
    "r = r5(α, k)\n",
    "w = w5(α, k)\n",
    "T = T5(τ, w, r, δ, k)\n",
    "y = output(k,l,0)\n",
    "i = investment(k)\n",
    "print('output is %1.4f' % y)\n",
    "print('investment is %1.4f' % i)"
   ]
  },
  {
   "cell_type": "code",
   "execution_count": 6,
   "metadata": {},
   "outputs": [
    {
     "name": "stdout",
     "output_type": "stream",
     "text": [
      "[0.65292438 4.69843524 0.64472543]\n"
     ]
    }
   ],
   "source": [
    "# Exercise 6\n",
    "\n",
    "uc6 = lambda c, γ: c**(-γ)\n",
    "ul6 = lambda c, γ, l: - a * (1 - l)**(-ϵ)\n",
    "r6 = lambda α, k, l: α * k**(α - 1) * l**(1 - α)\n",
    "w6 = lambda α, k, l: (1-α) * k**α * l**(1 - α)\n",
    "T6 = lambda τ, w, r, δ, k, l: τ * (w * l + (r - δ) * k)\n",
    "\n",
    "def funcs_6(x):\n",
    "    c,k,l = x[0],x[1],x[2]\n",
    "    \n",
    "    r = r6(α, k, l)\n",
    "    w = w6(α, k, l)\n",
    "    uc = uc6(c, γ)\n",
    "    ul = ul6(c, γ, l)\n",
    "    T = T6(τ, w, r, δ, k, l)\n",
    "    \n",
    "    f1 = c - (w*l + (r-δ)*k)\n",
    "    f2 = uc - β * uc * ((r-δ)*(1.-τ)+1.)\n",
    "    f3 = -ul - uc * w * (1.-τ) \n",
    "    return (f1, f2, f3)\n",
    "    \n",
    "γ = 2.5\n",
    "ϵ = 1.5\n",
    "β = 0.98\n",
    "α = 0.4\n",
    "a = 0.5\n",
    "δ = 0.1\n",
    "τ = 0.05\n",
    "z = 0\n",
    "print(optimize.fsolve(funcs_6, (0.5, 1, 0.5)))\n",
    "(c,k,l) = optimize.fsolve(funcs_6, (0.5, 1, 0.5))"
   ]
  },
  {
   "cell_type": "code",
   "execution_count": 7,
   "metadata": {},
   "outputs": [
    {
     "name": "stdout",
     "output_type": "stream",
     "text": [
      "output is 1.8569\n",
      "investment is 0.4698\n"
     ]
    }
   ],
   "source": [
    "print('output is %1.4f' % output(k,1,0))\n",
    "print('investment is %1.4f' % investment(k))"
   ]
  },
  {
   "cell_type": "code",
   "execution_count": 8,
   "metadata": {},
   "outputs": [
    {
     "name": "stdout",
     "output_type": "stream",
     "text": [
      "0.6529243812857988 0.6447254285214945 4.69843523869358 0.1214822771278358 0.8561649176012442 0.03264621906251685 1.426941529335407 0.4698435238693577\n"
     ]
    }
   ],
   "source": [
    "# Exercise 7\n",
    "\n",
    "c, k, l = optimize.fsolve(funcs_6, (0.5, 1, 0.5))\n",
    "r = r6(α, k, l)\n",
    "w = w6(α, k, l)\n",
    "uc = uc6(c, γ)\n",
    "ul = ul6(c, γ, l)\n",
    "T = T6(τ, w, r, δ, k, l)\n",
    "y = output(k,l,0)\n",
    "i = investment(k)\n",
    "print(c,l,k,r,w,T,y,i)"
   ]
  },
  {
   "cell_type": "code",
   "execution_count": 9,
   "metadata": {},
   "outputs": [],
   "source": [
    "# use numerical diff, i.e. (f(x+ϵ) - f(x))/2ϵ"
   ]
  },
  {
   "cell_type": "code",
   "execution_count": 10,
   "metadata": {},
   "outputs": [
    {
     "name": "stdout",
     "output_type": "stream",
     "text": [
      "0.5449889652061197\n",
      "-0.01551354069466086\n",
      "0.1130548960103121\n"
     ]
    }
   ],
   "source": [
    "import autograd.numpy as np\n",
    "from autograd import grad\n",
    "\n",
    "# same fucntions as in exercise 6 but rewrite here using autograd version of numpy\n",
    "uc7 = lambda c, γ: c**(-γ)\n",
    "ul7 = lambda c, γ, l: - a * (1 - l)**(-ϵ)\n",
    "r7 = lambda α, k, l: α * k**(α - 1) * l**(1 - α)\n",
    "w7 = lambda α, k, l: (1-α) * k**α * l**(1 - α)\n",
    "T7 = lambda τ, w, r, δ, k, l: τ * (w * l + (r - δ) * k)\n",
    "output = lambda k,l,z: k**α*(l*np.exp(z))**(1-α)\n",
    "investment = lambda k: k - (1-δ)*k\n",
    "\n",
    "def funcs_7(x):\n",
    "    c,k,l = x[0],x[1],x[2]\n",
    "    \n",
    "    r = r6(α, k, l)\n",
    "    w = w6(α, k, l)\n",
    "    uc = uc6(c, γ)\n",
    "    ul = ul6(c, γ, l)\n",
    "    T = T6(τ, w, r, δ, k, l)\n",
    "    \n",
    "    f1 = c - (w*l + (r-δ)*k)\n",
    "    f2 = uc - β * uc * ((r-δ)*(1.-τ)+1.)\n",
    "    f3 = -ul - uc * w * (1.-τ) \n",
    "    return (f1, f2, f3)\n",
    "    \n",
    "γ = 2.5\n",
    "ϵ = 1.5\n",
    "β = 0.98\n",
    "α = 0.4\n",
    "a = 0.5\n",
    "δ = 0.1\n",
    "τ = 0.05\n",
    "z = 0\n",
    "\n",
    "c, k, l = optimize.fsolve(funcs_7, (0.5, 1, 0.5))\n",
    "r = r6(α, k, l)\n",
    "w = w6(α, k, l)\n",
    "uc = uc6(c, γ)\n",
    "ul = ul6(c, γ, l)\n",
    "T = T6(τ, w, r, δ, k, l)\n",
    "y = output(k,l,0)\n",
    "i = investment(k)\n",
    "\n",
    "r_α = grad(r6, 0)\n",
    "r_k = grad(r6, 1)\n",
    "r_l = grad(r6, 2)\n",
    "print(r_α(α, k, l))\n",
    "print(r_k(α, k, l))\n",
    "print(r_l(α, k, l))\n",
    "# continue in this fashion for the rest of the derivatives.\n",
    "\n",
    "# change to normal numpy after finish\n",
    "import numpy as np"
   ]
  }
 ],
 "metadata": {
  "kernelspec": {
   "display_name": "Python 3",
   "language": "python",
   "name": "python3"
  },
  "language_info": {
   "codemirror_mode": {
    "name": "ipython",
    "version": 3
   },
   "file_extension": ".py",
   "mimetype": "text/x-python",
   "name": "python",
   "nbconvert_exporter": "python",
   "pygments_lexer": "ipython3",
   "version": "3.7.3"
  }
 },
 "nbformat": 4,
 "nbformat_minor": 2
}
