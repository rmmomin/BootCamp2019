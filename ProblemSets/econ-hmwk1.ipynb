{
 "cells": [
  {
   "cell_type": "markdown",
   "metadata": {},
   "source": [
    "# Problem 2"
   ]
  },
  {
   "cell_type": "code",
   "execution_count": 30,
   "metadata": {},
   "outputs": [],
   "source": [
    "import numpy as np"
   ]
  },
  {
   "cell_type": "markdown",
   "metadata": {},
   "source": [
    "### Board\n",
    "#### node0 node1 node2\n",
    "#### node3 node4 node5\n",
    "#### node6 node7 node8"
   ]
  },
  {
   "cell_type": "code",
   "execution_count": null,
   "metadata": {},
   "outputs": [],
   "source": [
    "state_space"
   ]
  },
  {
   "cell_type": "code",
   "execution_count": 35,
   "metadata": {},
   "outputs": [],
   "source": [
    "def read_graph(in_file, terminal = False):\n",
    "    graph = {}\n",
    "    infile = open(in_file)\n",
    "    for line in infile:\n",
    "        elements = line.split(',')\n",
    "        node = elements.pop(0)\n",
    "        graph[node] = []\n",
    "        for element in elements:\n",
    "            if terminal:\n",
    "                n1, n2, n3 = element.split()\n",
    "                graph[node].append((n1.rstrip(), n2.rstrip(), n3.rstrip()))\n",
    "            else:\n",
    "                graph[node].append(element.rstrip())\n",
    "    infile.close()\n",
    "    return graph"
   ]
  },
  {
   "cell_type": "code",
   "execution_count": 36,
   "metadata": {},
   "outputs": [],
   "source": [
    "def update_J(J, graph):\n",
    "    \"The Bellman operator.\"\n",
    "    next_J = {}\n",
    "    for node in graph:\n",
    "        "
   ]
  },
  {
   "cell_type": "code",
   "execution_count": 41,
   "metadata": {},
   "outputs": [],
   "source": [
    "graph1 = read_graph('tictactoe_space.txt')\n",
    "graph2 = read_graph('tictactoe_terminal.txt', True)\n",
    "M = 1e10\n",
    "J = {}\n",
    "for node in graph:\n",
    "    J[node] = M"
   ]
  },
  {
   "cell_type": "code",
   "execution_count": 42,
   "metadata": {},
   "outputs": [
    {
     "data": {
      "text/plain": [
       "{'node0': [' node1', ' node3', ' node4'],\n",
       " 'node1': [' node0', ' node2', ' node4'],\n",
       " 'node2': [' node1', ' node4', ' node5'],\n",
       " 'node3': [' node0', ' node4', ' node6'],\n",
       " 'node4': [' node1', ' node3', ' node5', ' node7'],\n",
       " 'node5': [' node2', ' node4', ' node8'],\n",
       " 'node6': [' node3', ' node4', ' node7'],\n",
       " 'node7': [' node6', ' node4', ' node8'],\n",
       " 'node8': [' node4', ' node5', ' node7']}"
      ]
     },
     "execution_count": 42,
     "metadata": {},
     "output_type": "execute_result"
    }
   ],
   "source": [
    "graph1"
   ]
  },
  {
   "cell_type": "code",
   "execution_count": 43,
   "metadata": {},
   "outputs": [
    {
     "data": {
      "text/plain": [
       "{'node0': [('node0', 'node1', 'node2'),\n",
       "  ('node0', 'node3', 'node6'),\n",
       "  ('node0', 'node4', 'node8')],\n",
       " 'node1': [('node0', 'node1', 'node2'), ('node1', 'node4', 'node7')],\n",
       " 'node2': [('node0', 'node1', 'node2'),\n",
       "  ('node2', 'node4', 'node6'),\n",
       "  ('node2', 'node5', 'node8')],\n",
       " 'node3': [('node0', 'node3', 'node6'), ('node3', 'node4', 'node5')],\n",
       " 'node4': [('node0', 'node4', 'node8'),\n",
       "  ('node1', 'node4', 'node7'),\n",
       "  ('node2', 'node4', 'node6'),\n",
       "  ('node3', 'node4', 'node5')],\n",
       " 'node5': [('node2', 'node5', 'node8'), ('node3', 'node4', 'node5')],\n",
       " 'node6': [('node0', 'node3', 'node6'),\n",
       "  ('node6', 'node7', 'node8'),\n",
       "  ('node2', 'node4', 'node6')],\n",
       " 'node7': [('node1', 'node4', 'node7'), ('node6', 'node7', 'node8')],\n",
       " 'node8': [('node2', 'node5', 'node8'),\n",
       "  ('node0', 'node4', 'node8'),\n",
       "  ('node6', 'node7', 'node8')]}"
      ]
     },
     "execution_count": 43,
     "metadata": {},
     "output_type": "execute_result"
    }
   ],
   "source": [
    "graph2"
   ]
  },
  {
   "cell_type": "code",
   "execution_count": null,
   "metadata": {},
   "outputs": [],
   "source": []
  }
 ],
 "metadata": {
  "kernelspec": {
   "display_name": "Python 3",
   "language": "python",
   "name": "python3"
  },
  "language_info": {
   "codemirror_mode": {
    "name": "ipython",
    "version": 3
   },
   "file_extension": ".py",
   "mimetype": "text/x-python",
   "name": "python",
   "nbconvert_exporter": "python",
   "pygments_lexer": "ipython3",
   "version": "3.7.3"
  }
 },
 "nbformat": 4,
 "nbformat_minor": 2
}
