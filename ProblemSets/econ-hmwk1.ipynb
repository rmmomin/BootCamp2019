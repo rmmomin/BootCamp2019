{
 "cells": [
  {
   "cell_type": "markdown",
   "metadata": {},
   "source": [
    "# Problem 2"
   ]
  },
  {
   "cell_type": "code",
   "execution_count": 105,
   "metadata": {},
   "outputs": [],
   "source": [
    "import numpy as np\n",
    "import random"
   ]
  },
  {
   "cell_type": "code",
   "execution_count": 106,
   "metadata": {},
   "outputs": [],
   "source": [
    "def ret_sums(state):\n",
    "    row_sum = np.sum(state, axis=0)\n",
    "    col_sum = np.sum(state, axis=1)\n",
    "    diag_sum = np.array([int(state[0,0])+int(state[1,1])+int(state[2,2]), int(state[2,0])+ int(state[1,1])+ int(state[0,2])])\n",
    "    return row_sum, col_sum, diag_sum"
   ]
  },
  {
   "cell_type": "code",
   "execution_count": 107,
   "metadata": {},
   "outputs": [],
   "source": [
    "def check_win(state):\n",
    "    temp_state = state == 1\n",
    "    row_sum, col_sum, diag_sum = ret_sums(temp_state)\n",
    "    check1 = max([np.sum(row_sum>2), np.sum(col_sum>2), np.sum(diag_sum>2)])\n",
    "    temp_state = state == -1\n",
    "    row_sum, col_sum, diag_sum = ret_sums(temp_state)\n",
    "    check2 = max([np.sum(row_sum>2), np.sum(col_sum>2), np.sum(diag_sum>2)])\n",
    "    return max(check1, check2)"
   ]
  },
  {
   "cell_type": "code",
   "execution_count": 113,
   "metadata": {},
   "outputs": [
    {
     "name": "stdout",
     "output_type": "stream",
     "text": [
      "[[0 0 0]\n",
      " [0 0 0]\n",
      " [0 0 0]]\n",
      "Enter coordinate: x\n",
      "0\n",
      "Enter coordinate: y\n",
      "0\n",
      "[[ 1  0  0]\n",
      " [ 0  0  0]\n",
      " [ 0  0 -1]]\n",
      "Enter coordinate: x\n",
      "0\n",
      "Enter coordinate: y\n",
      "1\n",
      "[[ 1  1 -1]\n",
      " [ 0  0  0]\n",
      " [ 0  0 -1]]\n",
      "Enter coordinate: x\n",
      "1\n",
      "Enter coordinate: y\n",
      "0\n",
      "[[ 1  1 -1]\n",
      " [ 1  0  0]\n",
      " [ 0 -1 -1]]\n",
      "Enter coordinate: x\n",
      "2\n",
      "Enter coordinate: y\n",
      "0\n",
      "player 1 wins!\n",
      "[[ 1  1 -1]\n",
      " [ 1  0  0]\n",
      " [ 1 -1 -1]]\n"
     ]
    }
   ],
   "source": [
    "state = np.array([[0, 0, 0], [0, 0, 0], [0, 0, 0]])\n",
    "while not check_win(state):\n",
    "    print(state)\n",
    "    valid = True\n",
    "    while valid:\n",
    "        print('Enter coordinate: x')\n",
    "        p1x = input()\n",
    "        print('Enter coordinate: y')\n",
    "        p1y = input()        \n",
    "        try:\n",
    "            if state[int(p1x),int(p1y)] != 0:\n",
    "                print('Invalid, try again.')\n",
    "            else:\n",
    "                state[int(p1x),int(p1y)] = 1\n",
    "                valid = False\n",
    "        except:\n",
    "            print('Invalid, try again.')\n",
    "    if check_win(state):\n",
    "            print('player 1 wins!')\n",
    "            break\n",
    "    try:\n",
    "        avail_cords = [(i,j) for i,j in zip(*np.where(state==0))]\n",
    "        state[random.choice(avail_cords)] = -1\n",
    "        # bellman equation should go something like this: cycle through the available coords, if can win now, choose that point, o/w min continuation value (check_win for p1)\n",
    "    except:\n",
    "        if not check_win(state):\n",
    "            print('draw')\n",
    "    finally:\n",
    "        if check_win(state):\n",
    "            print('player 2 wins!')\n",
    "            break\n",
    "print(state)\n",
    "state = np.array([[0, 0, 0], [0, 0, 0], [0, 0, 0]])"
   ]
  }
 ],
 "metadata": {
  "kernelspec": {
   "display_name": "Python 3",
   "language": "python",
   "name": "python3"
  },
  "language_info": {
   "codemirror_mode": {
    "name": "ipython",
    "version": 3
   },
   "file_extension": ".py",
   "mimetype": "text/x-python",
   "name": "python",
   "nbconvert_exporter": "python",
   "pygments_lexer": "ipython3",
   "version": "3.7.1"
  }
 },
 "nbformat": 4,
 "nbformat_minor": 2
}
